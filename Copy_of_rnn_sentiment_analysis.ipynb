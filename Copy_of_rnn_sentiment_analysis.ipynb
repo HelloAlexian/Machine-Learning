{
  "nbformat": 4,
  "nbformat_minor": 0,
  "metadata": {
    "colab": {
      "name": "Copy of rnn_sentiment_analysis.ipynb",
      "version": "0.3.2",
      "provenance": [],
      "include_colab_link": true
    },
    "language_info": {
      "codemirror_mode": {
        "name": "ipython",
        "version": 3
      },
      "file_extension": ".py",
      "mimetype": "text/x-python",
      "name": "python",
      "nbconvert_exporter": "python",
      "pygments_lexer": "ipython3",
      "version": "3.6.3"
    },
    "kernelspec": {
      "name": "python3",
      "display_name": "Python 3"
    },
    "accelerator": "GPU"
  },
  "cells": [
    {
      "cell_type": "markdown",
      "metadata": {
        "id": "view-in-github",
        "colab_type": "text"
      },
      "source": [
        "<a href=\"https://colab.research.google.com/github/helloalexian/Machine-Learning/blob/master/Copy_of_rnn_sentiment_analysis.ipynb\" target=\"_parent\"><img src=\"https://colab.research.google.com/assets/colab-badge.svg\" alt=\"Open In Colab\"/></a>"
      ]
    },
    {
      "cell_type": "markdown",
      "metadata": {
        "id": "mo6Uof6mdtoa",
        "colab_type": "text"
      },
      "source": [
        "# Sentiment Analysis Part 2\n",
        "\n",
        "_Natural Langauge Processing Nanodegree Program_\n",
        "\n",
        "---\n",
        "\n"
      ]
    },
    {
      "cell_type": "markdown",
      "metadata": {
        "id": "hXy-hn0qdtoe",
        "colab_type": "text"
      },
      "source": [
        "## Step 5: Switching gears - RNNs\n",
        "\n",
        "We just saw how the task of sentiment analysis can be solved via a traditional machine learning approach: BoW + a nonlinear classifier. We now switch gears and use Recurrent Neural Networks, and in particular LSTMs, to perform sentiment analysis in Keras. Conveniently, Keras has a built-in [IMDb movie reviews dataset](https://keras.io/datasets/#imdb-movie-reviews-sentiment-classification) that we can use, with the same vocabulary size."
      ]
    },
    {
      "cell_type": "code",
      "metadata": {
        "id": "MAIReH9DfduN",
        "colab_type": "code",
        "colab": {
          "base_uri": "https://localhost:8080/",
          "height": 34
        },
        "outputId": "5ef0e255-0feb-4143-cf41-24044c9da258"
      },
      "source": [
        "!pip install numpy==1.16.2\n",
        "import numpy as np"
      ],
      "execution_count": 1,
      "outputs": [
        {
          "output_type": "stream",
          "text": [
            "Requirement already satisfied: numpy==1.16.2 in /usr/local/lib/python3.6/dist-packages (1.16.2)\n"
          ],
          "name": "stdout"
        }
      ]
    },
    {
      "cell_type": "code",
      "metadata": {
        "id": "WCVrwMHCdtog",
        "colab_type": "code",
        "colab": {
          "base_uri": "https://localhost:8080/",
          "height": 34
        },
        "outputId": "ec18d8b3-8cf8-4776-ab46-3f9e8e8727fb"
      },
      "source": [
        "from keras.datasets import imdb  # import the built-in imdb dataset in Keras\n",
        "\n",
        "# Set the vocabulary size\n",
        "vocabulary_size = 5000\n",
        "\n",
        "# Load in training and test data (note the difference in convention compared to scikit-learn)\n",
        "(X_train, y_train), (X_test, y_test) = imdb.load_data(num_words=vocabulary_size)\n",
        "print(\"Loaded dataset with {} training samples, {} test samples\".format(len(X_train), len(X_test)))"
      ],
      "execution_count": 19,
      "outputs": [
        {
          "output_type": "stream",
          "text": [
            "Loaded dataset with 25000 training samples, 25000 test samples\n"
          ],
          "name": "stdout"
        }
      ]
    },
    {
      "cell_type": "code",
      "metadata": {
        "id": "fWeYZX_-dtom",
        "colab_type": "code",
        "colab": {
          "base_uri": "https://localhost:8080/",
          "height": 107
        },
        "outputId": "06d53ee9-5c41-495a-9e50-57805366751c"
      },
      "source": [
        "# Inspect a sample review and its label\n",
        "print(\"--- Review ---\")\n",
        "print(X_train[7])\n",
        "print(\"--- Label ---\")\n",
        "print(y_train[7])"
      ],
      "execution_count": 20,
      "outputs": [
        {
          "output_type": "stream",
          "text": [
            "--- Review ---\n",
            "[1, 4, 2, 716, 4, 65, 7, 4, 689, 4367, 2, 2343, 4804, 2, 2, 2, 2, 2315, 2, 2, 2, 2, 4, 2, 628, 2, 37, 9, 150, 4, 2, 4069, 11, 2909, 4, 2, 847, 313, 6, 176, 2, 9, 2, 138, 9, 4434, 19, 4, 96, 183, 26, 4, 192, 15, 27, 2, 799, 2, 2, 588, 84, 11, 4, 3231, 152, 339, 2, 42, 4869, 2, 2, 345, 4804, 2, 142, 43, 218, 208, 54, 29, 853, 659, 46, 4, 882, 183, 80, 115, 30, 4, 172, 174, 10, 10, 1001, 398, 1001, 1055, 526, 34, 3717, 2, 2, 2, 17, 4, 2, 1094, 871, 64, 85, 22, 2030, 1109, 38, 230, 9, 4, 4324, 2, 251, 2, 1034, 195, 301, 14, 16, 31, 7, 4, 2, 8, 783, 2, 33, 4, 2945, 103, 465, 2, 42, 845, 45, 446, 11, 1895, 19, 184, 76, 32, 4, 2, 207, 110, 13, 197, 4, 2, 16, 601, 964, 2152, 595, 13, 258, 4, 1730, 66, 338, 55, 2, 4, 550, 728, 65, 1196, 8, 1839, 61, 1546, 42, 2, 61, 602, 120, 45, 2, 6, 320, 786, 99, 196, 2, 786, 2, 4, 225, 4, 373, 1009, 33, 4, 130, 63, 69, 72, 1104, 46, 1292, 225, 14, 66, 194, 2, 1703, 56, 8, 803, 1004, 6, 2, 155, 11, 4, 2, 3231, 45, 853, 2029, 8, 30, 6, 117, 430, 19, 6, 2, 9, 15, 66, 424, 8, 2337, 178, 9, 15, 66, 424, 8, 1465, 178, 9, 15, 66, 142, 15, 9, 424, 8, 28, 178, 662, 44, 12, 17, 4, 130, 898, 1686, 9, 6, 2, 267, 185, 430, 4, 118, 2, 277, 15, 4, 1188, 100, 216, 56, 19, 4, 357, 114, 2, 367, 45, 115, 93, 788, 121, 4, 2, 79, 32, 68, 278, 39, 8, 818, 162, 4165, 237, 600, 7, 98, 306, 8, 157, 549, 628, 11, 6, 2, 13, 824, 15, 4104, 76, 42, 138, 36, 774, 77, 1059, 159, 150, 4, 229, 497, 8, 1493, 11, 175, 251, 453, 19, 2, 189, 12, 43, 127, 6, 394, 292, 7, 2, 4, 107, 8, 4, 2826, 15, 1082, 1251, 9, 906, 42, 1134, 6, 66, 78, 22, 15, 13, 244, 2519, 8, 135, 233, 52, 44, 10, 10, 466, 112, 398, 526, 34, 4, 1572, 4413, 2, 1094, 225, 57, 599, 133, 225, 6, 227, 7, 541, 4323, 6, 171, 139, 7, 539, 2, 56, 11, 6, 3231, 21, 164, 25, 426, 81, 33, 344, 624, 19, 6, 4617, 7, 2, 2, 6, 2, 4, 22, 9, 1082, 629, 237, 45, 188, 6, 55, 655, 707, 2, 956, 225, 1456, 841, 42, 1310, 225, 6, 2493, 1467, 2, 2828, 21, 4, 2, 9, 364, 23, 4, 2228, 2407, 225, 24, 76, 133, 18, 4, 189, 2293, 10, 10, 814, 11, 2, 11, 2642, 14, 47, 15, 682, 364, 352, 168, 44, 12, 45, 24, 913, 93, 21, 247, 2441, 4, 116, 34, 35, 1859, 8, 72, 177, 9, 164, 8, 901, 344, 44, 13, 191, 135, 13, 126, 421, 233, 18, 259, 10, 10, 4, 2, 2, 4, 2, 3074, 7, 112, 199, 753, 357, 39, 63, 12, 115, 2, 763, 8, 15, 35, 3282, 1523, 65, 57, 599, 6, 1916, 277, 1730, 37, 25, 92, 202, 6, 2, 44, 25, 28, 6, 22, 15, 122, 24, 4171, 72, 33, 32]\n",
            "--- Label ---\n",
            "0\n"
          ],
          "name": "stdout"
        }
      ]
    },
    {
      "cell_type": "markdown",
      "metadata": {
        "id": "MQSh48wGdtor",
        "colab_type": "text"
      },
      "source": [
        "Notice that the label is an integer (0 for negative, 1 for positive), and the review itself is stored as a sequence of integers. These are word IDs that have been preassigned to individual words. To map them back to the original words, you can use the dictionary returned by `imdb.get_word_index()`."
      ]
    },
    {
      "cell_type": "code",
      "metadata": {
        "id": "9Rb9FF-hkgh6",
        "colab_type": "code",
        "colab": {
          "base_uri": "https://localhost:8080/",
          "height": 9908
        },
        "outputId": "0544f264-e921-4feb-a19d-1a669256be22"
      },
      "source": [
        "X_train[7]"
      ],
      "execution_count": 21,
      "outputs": [
        {
          "output_type": "execute_result",
          "data": {
            "text/plain": [
              "[1,\n",
              " 4,\n",
              " 2,\n",
              " 716,\n",
              " 4,\n",
              " 65,\n",
              " 7,\n",
              " 4,\n",
              " 689,\n",
              " 4367,\n",
              " 2,\n",
              " 2343,\n",
              " 4804,\n",
              " 2,\n",
              " 2,\n",
              " 2,\n",
              " 2,\n",
              " 2315,\n",
              " 2,\n",
              " 2,\n",
              " 2,\n",
              " 2,\n",
              " 4,\n",
              " 2,\n",
              " 628,\n",
              " 2,\n",
              " 37,\n",
              " 9,\n",
              " 150,\n",
              " 4,\n",
              " 2,\n",
              " 4069,\n",
              " 11,\n",
              " 2909,\n",
              " 4,\n",
              " 2,\n",
              " 847,\n",
              " 313,\n",
              " 6,\n",
              " 176,\n",
              " 2,\n",
              " 9,\n",
              " 2,\n",
              " 138,\n",
              " 9,\n",
              " 4434,\n",
              " 19,\n",
              " 4,\n",
              " 96,\n",
              " 183,\n",
              " 26,\n",
              " 4,\n",
              " 192,\n",
              " 15,\n",
              " 27,\n",
              " 2,\n",
              " 799,\n",
              " 2,\n",
              " 2,\n",
              " 588,\n",
              " 84,\n",
              " 11,\n",
              " 4,\n",
              " 3231,\n",
              " 152,\n",
              " 339,\n",
              " 2,\n",
              " 42,\n",
              " 4869,\n",
              " 2,\n",
              " 2,\n",
              " 345,\n",
              " 4804,\n",
              " 2,\n",
              " 142,\n",
              " 43,\n",
              " 218,\n",
              " 208,\n",
              " 54,\n",
              " 29,\n",
              " 853,\n",
              " 659,\n",
              " 46,\n",
              " 4,\n",
              " 882,\n",
              " 183,\n",
              " 80,\n",
              " 115,\n",
              " 30,\n",
              " 4,\n",
              " 172,\n",
              " 174,\n",
              " 10,\n",
              " 10,\n",
              " 1001,\n",
              " 398,\n",
              " 1001,\n",
              " 1055,\n",
              " 526,\n",
              " 34,\n",
              " 3717,\n",
              " 2,\n",
              " 2,\n",
              " 2,\n",
              " 17,\n",
              " 4,\n",
              " 2,\n",
              " 1094,\n",
              " 871,\n",
              " 64,\n",
              " 85,\n",
              " 22,\n",
              " 2030,\n",
              " 1109,\n",
              " 38,\n",
              " 230,\n",
              " 9,\n",
              " 4,\n",
              " 4324,\n",
              " 2,\n",
              " 251,\n",
              " 2,\n",
              " 1034,\n",
              " 195,\n",
              " 301,\n",
              " 14,\n",
              " 16,\n",
              " 31,\n",
              " 7,\n",
              " 4,\n",
              " 2,\n",
              " 8,\n",
              " 783,\n",
              " 2,\n",
              " 33,\n",
              " 4,\n",
              " 2945,\n",
              " 103,\n",
              " 465,\n",
              " 2,\n",
              " 42,\n",
              " 845,\n",
              " 45,\n",
              " 446,\n",
              " 11,\n",
              " 1895,\n",
              " 19,\n",
              " 184,\n",
              " 76,\n",
              " 32,\n",
              " 4,\n",
              " 2,\n",
              " 207,\n",
              " 110,\n",
              " 13,\n",
              " 197,\n",
              " 4,\n",
              " 2,\n",
              " 16,\n",
              " 601,\n",
              " 964,\n",
              " 2152,\n",
              " 595,\n",
              " 13,\n",
              " 258,\n",
              " 4,\n",
              " 1730,\n",
              " 66,\n",
              " 338,\n",
              " 55,\n",
              " 2,\n",
              " 4,\n",
              " 550,\n",
              " 728,\n",
              " 65,\n",
              " 1196,\n",
              " 8,\n",
              " 1839,\n",
              " 61,\n",
              " 1546,\n",
              " 42,\n",
              " 2,\n",
              " 61,\n",
              " 602,\n",
              " 120,\n",
              " 45,\n",
              " 2,\n",
              " 6,\n",
              " 320,\n",
              " 786,\n",
              " 99,\n",
              " 196,\n",
              " 2,\n",
              " 786,\n",
              " 2,\n",
              " 4,\n",
              " 225,\n",
              " 4,\n",
              " 373,\n",
              " 1009,\n",
              " 33,\n",
              " 4,\n",
              " 130,\n",
              " 63,\n",
              " 69,\n",
              " 72,\n",
              " 1104,\n",
              " 46,\n",
              " 1292,\n",
              " 225,\n",
              " 14,\n",
              " 66,\n",
              " 194,\n",
              " 2,\n",
              " 1703,\n",
              " 56,\n",
              " 8,\n",
              " 803,\n",
              " 1004,\n",
              " 6,\n",
              " 2,\n",
              " 155,\n",
              " 11,\n",
              " 4,\n",
              " 2,\n",
              " 3231,\n",
              " 45,\n",
              " 853,\n",
              " 2029,\n",
              " 8,\n",
              " 30,\n",
              " 6,\n",
              " 117,\n",
              " 430,\n",
              " 19,\n",
              " 6,\n",
              " 2,\n",
              " 9,\n",
              " 15,\n",
              " 66,\n",
              " 424,\n",
              " 8,\n",
              " 2337,\n",
              " 178,\n",
              " 9,\n",
              " 15,\n",
              " 66,\n",
              " 424,\n",
              " 8,\n",
              " 1465,\n",
              " 178,\n",
              " 9,\n",
              " 15,\n",
              " 66,\n",
              " 142,\n",
              " 15,\n",
              " 9,\n",
              " 424,\n",
              " 8,\n",
              " 28,\n",
              " 178,\n",
              " 662,\n",
              " 44,\n",
              " 12,\n",
              " 17,\n",
              " 4,\n",
              " 130,\n",
              " 898,\n",
              " 1686,\n",
              " 9,\n",
              " 6,\n",
              " 2,\n",
              " 267,\n",
              " 185,\n",
              " 430,\n",
              " 4,\n",
              " 118,\n",
              " 2,\n",
              " 277,\n",
              " 15,\n",
              " 4,\n",
              " 1188,\n",
              " 100,\n",
              " 216,\n",
              " 56,\n",
              " 19,\n",
              " 4,\n",
              " 357,\n",
              " 114,\n",
              " 2,\n",
              " 367,\n",
              " 45,\n",
              " 115,\n",
              " 93,\n",
              " 788,\n",
              " 121,\n",
              " 4,\n",
              " 2,\n",
              " 79,\n",
              " 32,\n",
              " 68,\n",
              " 278,\n",
              " 39,\n",
              " 8,\n",
              " 818,\n",
              " 162,\n",
              " 4165,\n",
              " 237,\n",
              " 600,\n",
              " 7,\n",
              " 98,\n",
              " 306,\n",
              " 8,\n",
              " 157,\n",
              " 549,\n",
              " 628,\n",
              " 11,\n",
              " 6,\n",
              " 2,\n",
              " 13,\n",
              " 824,\n",
              " 15,\n",
              " 4104,\n",
              " 76,\n",
              " 42,\n",
              " 138,\n",
              " 36,\n",
              " 774,\n",
              " 77,\n",
              " 1059,\n",
              " 159,\n",
              " 150,\n",
              " 4,\n",
              " 229,\n",
              " 497,\n",
              " 8,\n",
              " 1493,\n",
              " 11,\n",
              " 175,\n",
              " 251,\n",
              " 453,\n",
              " 19,\n",
              " 2,\n",
              " 189,\n",
              " 12,\n",
              " 43,\n",
              " 127,\n",
              " 6,\n",
              " 394,\n",
              " 292,\n",
              " 7,\n",
              " 2,\n",
              " 4,\n",
              " 107,\n",
              " 8,\n",
              " 4,\n",
              " 2826,\n",
              " 15,\n",
              " 1082,\n",
              " 1251,\n",
              " 9,\n",
              " 906,\n",
              " 42,\n",
              " 1134,\n",
              " 6,\n",
              " 66,\n",
              " 78,\n",
              " 22,\n",
              " 15,\n",
              " 13,\n",
              " 244,\n",
              " 2519,\n",
              " 8,\n",
              " 135,\n",
              " 233,\n",
              " 52,\n",
              " 44,\n",
              " 10,\n",
              " 10,\n",
              " 466,\n",
              " 112,\n",
              " 398,\n",
              " 526,\n",
              " 34,\n",
              " 4,\n",
              " 1572,\n",
              " 4413,\n",
              " 2,\n",
              " 1094,\n",
              " 225,\n",
              " 57,\n",
              " 599,\n",
              " 133,\n",
              " 225,\n",
              " 6,\n",
              " 227,\n",
              " 7,\n",
              " 541,\n",
              " 4323,\n",
              " 6,\n",
              " 171,\n",
              " 139,\n",
              " 7,\n",
              " 539,\n",
              " 2,\n",
              " 56,\n",
              " 11,\n",
              " 6,\n",
              " 3231,\n",
              " 21,\n",
              " 164,\n",
              " 25,\n",
              " 426,\n",
              " 81,\n",
              " 33,\n",
              " 344,\n",
              " 624,\n",
              " 19,\n",
              " 6,\n",
              " 4617,\n",
              " 7,\n",
              " 2,\n",
              " 2,\n",
              " 6,\n",
              " 2,\n",
              " 4,\n",
              " 22,\n",
              " 9,\n",
              " 1082,\n",
              " 629,\n",
              " 237,\n",
              " 45,\n",
              " 188,\n",
              " 6,\n",
              " 55,\n",
              " 655,\n",
              " 707,\n",
              " 2,\n",
              " 956,\n",
              " 225,\n",
              " 1456,\n",
              " 841,\n",
              " 42,\n",
              " 1310,\n",
              " 225,\n",
              " 6,\n",
              " 2493,\n",
              " 1467,\n",
              " 2,\n",
              " 2828,\n",
              " 21,\n",
              " 4,\n",
              " 2,\n",
              " 9,\n",
              " 364,\n",
              " 23,\n",
              " 4,\n",
              " 2228,\n",
              " 2407,\n",
              " 225,\n",
              " 24,\n",
              " 76,\n",
              " 133,\n",
              " 18,\n",
              " 4,\n",
              " 189,\n",
              " 2293,\n",
              " 10,\n",
              " 10,\n",
              " 814,\n",
              " 11,\n",
              " 2,\n",
              " 11,\n",
              " 2642,\n",
              " 14,\n",
              " 47,\n",
              " 15,\n",
              " 682,\n",
              " 364,\n",
              " 352,\n",
              " 168,\n",
              " 44,\n",
              " 12,\n",
              " 45,\n",
              " 24,\n",
              " 913,\n",
              " 93,\n",
              " 21,\n",
              " 247,\n",
              " 2441,\n",
              " 4,\n",
              " 116,\n",
              " 34,\n",
              " 35,\n",
              " 1859,\n",
              " 8,\n",
              " 72,\n",
              " 177,\n",
              " 9,\n",
              " 164,\n",
              " 8,\n",
              " 901,\n",
              " 344,\n",
              " 44,\n",
              " 13,\n",
              " 191,\n",
              " 135,\n",
              " 13,\n",
              " 126,\n",
              " 421,\n",
              " 233,\n",
              " 18,\n",
              " 259,\n",
              " 10,\n",
              " 10,\n",
              " 4,\n",
              " 2,\n",
              " 2,\n",
              " 4,\n",
              " 2,\n",
              " 3074,\n",
              " 7,\n",
              " 112,\n",
              " 199,\n",
              " 753,\n",
              " 357,\n",
              " 39,\n",
              " 63,\n",
              " 12,\n",
              " 115,\n",
              " 2,\n",
              " 763,\n",
              " 8,\n",
              " 15,\n",
              " 35,\n",
              " 3282,\n",
              " 1523,\n",
              " 65,\n",
              " 57,\n",
              " 599,\n",
              " 6,\n",
              " 1916,\n",
              " 277,\n",
              " 1730,\n",
              " 37,\n",
              " 25,\n",
              " 92,\n",
              " 202,\n",
              " 6,\n",
              " 2,\n",
              " 44,\n",
              " 25,\n",
              " 28,\n",
              " 6,\n",
              " 22,\n",
              " 15,\n",
              " 122,\n",
              " 24,\n",
              " 4171,\n",
              " 72,\n",
              " 33,\n",
              " 32]"
            ]
          },
          "metadata": {
            "tags": []
          },
          "execution_count": 21
        }
      ]
    },
    {
      "cell_type": "code",
      "metadata": {
        "id": "qtz01B01dtot",
        "colab_type": "code",
        "colab": {
          "base_uri": "https://localhost:8080/",
          "height": 107
        },
        "outputId": "5090d07a-0bb1-4c03-e687-eac959155e81"
      },
      "source": [
        "# Map word IDs back to words\n",
        "word2id = imdb.get_word_index()\n",
        "id2word = {i: word for word, i in word2id.items()}\n",
        "print(\"--- Review (with words) ---\")\n",
        "print([id2word.get(i, \" \") for i in X_train[7]])\n",
        "print(\"--- Label ---\")\n",
        "print(y_train[7])"
      ],
      "execution_count": 22,
      "outputs": [
        {
          "output_type": "stream",
          "text": [
            "--- Review (with words) ---\n",
            "['the', 'of', 'and', 'local', 'of', 'their', 'br', 'of', 'attention', 'widow', 'and', 'captures', 'parties', 'and', 'and', 'and', 'and', 'excitement', 'and', 'and', 'and', 'and', 'of', 'and', 'english', 'and', 'like', 'it', 'years', 'of', 'and', 'unintentional', 'this', 'hitchcock', 'of', 'and', 'learn', 'everyone', 'is', 'quite', 'and', 'it', 'and', 'such', 'it', 'bonus', 'film', 'of', 'too', 'seems', 'he', 'of', 'enough', 'for', 'be', 'and', 'editing', 'and', 'and', 'please', 'great', 'this', 'of', 'shoots', 'thing', '3', 'and', \"it's\", 'mentioning', 'and', 'and', 'given', 'parties', 'and', 'back', 'out', 'interesting', 'times', 'no', 'all', 'average', 'talking', 'some', 'of', 'nor', 'seems', 'into', 'best', 'at', 'of', 'every', 'cast', 'i', 'i', 'inside', 'keep', 'inside', 'large', 'viewer', 'who', 'obscure', 'and', 'and', 'and', 'movie', 'of', 'and', 'entirely', \"you've\", 'see', 'because', 'you', 'deals', 'successful', 'her', 'anything', 'it', 'of', 'dedicated', 'and', 'hard', 'and', 'further', \"that's\", 'takes', 'as', 'with', 'by', 'br', 'of', 'and', 'in', 'minute', 'and', 'they', 'of', 'westerns', 'watch', 'seemed', 'and', \"it's\", 'lee', 'if', 'oh', 'this', 'japan', 'film', 'around', 'get', 'an', 'of', 'and', 'always', 'life', 'was', 'between', 'of', 'and', 'with', 'group', 'rate', 'code', \"film's\", 'was', 'although', 'of', 'arts', 'had', 'death', 'time', 'and', 'of', 'anyway', 'romantic', 'their', 'won', 'in', 'kevin', 'only', 'flying', \"it's\", 'and', 'only', 'cut', 'show', 'if', 'and', 'is', 'star', 'stay', 'movies', 'both', 'and', 'stay', 'and', 'of', 'music', 'of', 'tell', 'missing', 'they', 'of', 'here', 'really', 'me', 'we', 'value', 'some', 'silent', 'music', 'as', 'had', 'thought', 'and', 'realized', 'she', 'in', 'sorry', 'reasons', 'is', 'and', '10', 'this', 'of', 'and', 'shoots', 'if', 'average', 'remembered', 'in', 'at', 'is', 'over', 'worse', 'film', 'is', 'and', 'it', 'for', 'had', 'absolutely', 'in', 'naive', 'want', 'it', 'for', 'had', 'absolutely', 'in', 'j', 'want', 'it', 'for', 'had', 'back', 'for', 'it', 'absolutely', 'in', 'one', 'want', 'shots', 'has', 'that', 'movie', 'of', 'here', 'write', 'whatsoever', 'it', 'is', 'and', 'set', 'got', 'worse', 'of', 'where', 'and', 'once', 'for', 'of', 'accent', 'after', 'saw', 'she', 'film', 'of', 'rest', 'little', 'and', 'camera', 'if', 'best', 'way', 'elements', 'know', 'of', 'and', 'also', 'an', 'were', 'sense', 'or', 'in', 'realistic', 'actually', 'satan', \"he's\", 'score', 'br', 'any', 'himself', 'in', 'another', 'type', 'english', 'this', 'is', 'and', 'was', 'tom', 'for', 'dating', 'get', \"it's\", 'such', 'from', 'fantastic', 'will', 'pace', 'new', 'years', 'of', 'guy', 'game', 'in', 'murders', 'this', 'us', 'hard', 'lives', 'film', 'and', 'fact', 'that', 'out', 'end', 'is', 'getting', 'together', 'br', 'and', 'of', 'seen', 'in', 'of', 'jail', 'for', 'sees', 'utterly', 'it', 'meet', \"it's\", 'depth', 'is', 'had', 'do', 'you', 'for', 'was', 'rather', 'convince', 'in', 'why', 'last', 'very', 'has', 'i', 'i', 'throughout', 'never', 'keep', 'viewer', 'who', 'of', 'becoming', 'switch', 'and', 'entirely', 'music', 'even', 'interest', 'scene', 'music', 'is', 'far', 'br', 'voice', 'riveting', 'is', 'again', 'something', 'br', 'decent', 'and', 'she', 'this', 'is', 'shoots', 'not', 'director', 'have', 'against', 'people', 'they', 'line', 'cinematography', 'film', 'is', 'couples', 'br', 'and', 'and', 'is', 'and', 'of', 'you', 'it', 'sees', 'hero', \"he's\", 'if', \"can't\", 'is', 'time', 'husband', 'silly', 'and', 'result', 'music', 'image', 'sequences', \"it's\", 'chase', 'music', 'is', 'veteran', 'include', 'and', 'freeman', 'not', 'of', 'and', 'it', 'along', 'are', 'of', 'hearing', 'cutting', 'music', 'his', 'get', 'scene', 'but', 'of', 'fact', 'correct', 'i', 'i', 'means', 'this', 'and', 'this', 'blockbuster', 'as', 'there', 'for', 'disappointed', 'along', 'wrong', 'few', 'has', 'that', 'if', 'his', 'weird', 'way', 'not', 'girl', 'display', 'of', 'love', 'who', 'so', 'friendship', 'in', 'we', 'down', 'it', 'director', 'in', 'situation', 'line', 'has', 'was', 'big', 'why', 'was', 'your', 'supposed', 'last', 'but', 'especially', 'i', 'i', 'of', 'and', 'and', 'of', 'and', 'internet', 'br', 'never', 'give', 'theme', 'rest', 'or', 'really', 'that', 'best', 'and', 'release', 'in', 'for', 'so', 'multi', 'random', 'their', 'even', 'interest', 'is', 'judge', 'once', 'arts', 'like', 'have', 'then', 'own', 'is', 'and', 'has', 'have', 'one', 'is', 'you', 'for', 'off', 'his', 'dutch', 'we', 'they', 'an']\n",
            "--- Label ---\n",
            "0\n"
          ],
          "name": "stdout"
        }
      ]
    },
    {
      "cell_type": "markdown",
      "metadata": {
        "id": "kNL0UO5adtoy",
        "colab_type": "text"
      },
      "source": [
        "Unlike our Bag-of-Words approach, where we simply summarized the counts of each word in a document, this representation essentially retains the entire sequence of words (minus punctuation, stopwords, etc.). This is critical for RNNs to function. But it also means that now the features can be of different lengths!\n",
        "\n",
        "#### Question: Variable length reviews\n",
        "\n",
        "What is the maximum review length (in terms of number of words) in the training set? What is the minimum?\n",
        "\n",
        "#### Answer:\n",
        "\n",
        "...\n",
        "\n",
        "\n",
        "### TODO: Pad sequences\n",
        "\n",
        "In order to feed this data into your RNN, all input documents must have the same length. Let's limit the maximum review length to `max_words` by truncating longer reviews and padding shorter reviews with a null value (0). You can accomplish this easily using the [`pad_sequences()`](https://keras.io/preprocessing/sequence/#pad_sequences) function in Keras. For now, set `max_words` to 500."
      ]
    },
    {
      "cell_type": "code",
      "metadata": {
        "id": "eYdFncirdto0",
        "colab_type": "code",
        "colab": {}
      },
      "source": [
        "from keras.preprocessing import sequence\n",
        "\n",
        "# Set the maximum number of words per document (for both training and testing)\n",
        "max_words = 500\n",
        "\n",
        "# TODO: Pad sequences in X_train and X_test\n",
        "X_train_p = sequence.pad_sequences(X_train, maxlen=max_words)\n",
        "X_test_p = sequence.pad_sequences(X_test, maxlen=max_words)"
      ],
      "execution_count": 0,
      "outputs": []
    },
    {
      "cell_type": "code",
      "metadata": {
        "id": "umfaKW03mbsL",
        "colab_type": "code",
        "colab": {
          "base_uri": "https://localhost:8080/",
          "height": 34
        },
        "outputId": "8f75df5e-ea3d-47c2-f0db-7b3b1661d7c7"
      },
      "source": [
        "len(X_train[7])"
      ],
      "execution_count": 25,
      "outputs": [
        {
          "output_type": "execute_result",
          "data": {
            "text/plain": [
              "562"
            ]
          },
          "metadata": {
            "tags": []
          },
          "execution_count": 25
        }
      ]
    },
    {
      "cell_type": "code",
      "metadata": {
        "id": "zvJk8CXLnq-f",
        "colab_type": "code",
        "colab": {
          "base_uri": "https://localhost:8080/",
          "height": 34
        },
        "outputId": "9c783c82-2cd7-41e7-c4b8-8dd1ca4898c2"
      },
      "source": [
        "X_train[7][-10:]"
      ],
      "execution_count": 28,
      "outputs": [
        {
          "output_type": "execute_result",
          "data": {
            "text/plain": [
              "[28, 6, 22, 15, 122, 24, 4171, 72, 33, 32]"
            ]
          },
          "metadata": {
            "tags": []
          },
          "execution_count": 28
        }
      ]
    },
    {
      "cell_type": "code",
      "metadata": {
        "id": "mqKkJv50neYn",
        "colab_type": "code",
        "colab": {
          "base_uri": "https://localhost:8080/",
          "height": 52
        },
        "outputId": "04b519b8-8859-4c9a-c7e0-f79c6e875de7"
      },
      "source": [
        "X_train_p[7][-10:]"
      ],
      "execution_count": 27,
      "outputs": [
        {
          "output_type": "execute_result",
          "data": {
            "text/plain": [
              "array([  28,    6,   22,   15,  122,   24, 4171,   72,   33,   32],\n",
              "      dtype=int32)"
            ]
          },
          "metadata": {
            "tags": []
          },
          "execution_count": 27
        }
      ]
    },
    {
      "cell_type": "markdown",
      "metadata": {
        "id": "ZjR3OkmCdto6",
        "colab_type": "text"
      },
      "source": [
        "### TODO: Design an RNN model for sentiment analysis\n",
        "\n",
        "Build your model architecture in the code cell below. We have imported some layers from Keras that you might need but feel free to use any other layers / transformations you like.\n",
        "\n",
        "Remember that your input is a sequence of words (technically, integer word IDs) of maximum length = `max_words`, and your output is a binary sentiment label (0 or 1)."
      ]
    },
    {
      "cell_type": "code",
      "metadata": {
        "id": "xuVu98codto8",
        "colab_type": "code",
        "colab": {
          "base_uri": "https://localhost:8080/",
          "height": 263
        },
        "outputId": "6c7209f0-d22f-41f1-8fd6-6917fca102a3"
      },
      "source": [
        "from keras.models import Sequential\n",
        "from keras.layers import Embedding, LSTM, Dense, Dropout\n",
        "\n",
        "# TODO: Design your model\n",
        "embedding_size = 32\n",
        "model = Sequential()\n",
        "model.add(Embedding(vocabulary_size, embedding_size, input_length=max_words))\n",
        "model.add(LSTM(100))\n",
        "model.add(Dense(1, activation='sigmoid'))\n",
        "\n",
        "print(model.summary())"
      ],
      "execution_count": 31,
      "outputs": [
        {
          "output_type": "stream",
          "text": [
            "_________________________________________________________________\n",
            "Layer (type)                 Output Shape              Param #   \n",
            "=================================================================\n",
            "embedding_2 (Embedding)      (None, 500, 32)           160000    \n",
            "_________________________________________________________________\n",
            "lstm_2 (LSTM)                (None, 100)               53200     \n",
            "_________________________________________________________________\n",
            "dense_2 (Dense)              (None, 1)                 101       \n",
            "=================================================================\n",
            "Total params: 213,301\n",
            "Trainable params: 213,301\n",
            "Non-trainable params: 0\n",
            "_________________________________________________________________\n",
            "None\n"
          ],
          "name": "stdout"
        }
      ]
    },
    {
      "cell_type": "markdown",
      "metadata": {
        "id": "aUMPik8JdtpD",
        "colab_type": "text"
      },
      "source": [
        "#### Question: Architecture and parameters\n",
        "\n",
        "Briefly describe your neural net architecture. How many model parameters does it have that need to be trained?\n",
        "\n",
        "#### Answer:\n",
        "\n",
        "...\n",
        "\n",
        "### TODO: Train and evaluate your model\n",
        "\n",
        "Now you are ready to train your model. In Keras world, you first need to _compile_ your model by specifying the loss function and optimizer you want to use while training, as well as any evaluation metrics you'd like to measure. Specify the approprate parameters, including at least one metric `'accuracy'`."
      ]
    },
    {
      "cell_type": "code",
      "metadata": {
        "id": "Z9BsHerNdtpG",
        "colab_type": "code",
        "colab": {
          "base_uri": "https://localhost:8080/",
          "height": 160
        },
        "outputId": "d58e2c9b-458a-4b46-c3ac-c146b702b2a9"
      },
      "source": [
        "# TODO: Compile your model, specifying a loss function, optimizer, and metrics\n",
        "model.compile(loss='binary_crossentropy', optimizer='adam', metrics=['accuracy'])"
      ],
      "execution_count": 32,
      "outputs": [
        {
          "output_type": "stream",
          "text": [
            "W0615 10:22:37.419429 140612155504512 deprecation_wrapper.py:119] From /usr/local/lib/python3.6/dist-packages/keras/optimizers.py:790: The name tf.train.Optimizer is deprecated. Please use tf.compat.v1.train.Optimizer instead.\n",
            "\n",
            "W0615 10:22:37.444320 140612155504512 deprecation_wrapper.py:119] From /usr/local/lib/python3.6/dist-packages/keras/backend/tensorflow_backend.py:3376: The name tf.log is deprecated. Please use tf.math.log instead.\n",
            "\n",
            "W0615 10:22:37.449421 140612155504512 deprecation.py:323] From /usr/local/lib/python3.6/dist-packages/tensorflow/python/ops/nn_impl.py:180: add_dispatch_support.<locals>.wrapper (from tensorflow.python.ops.array_ops) is deprecated and will be removed in a future version.\n",
            "Instructions for updating:\n",
            "Use tf.where in 2.0, which has the same broadcast rule as np.where\n"
          ],
          "name": "stderr"
        }
      ]
    },
    {
      "cell_type": "markdown",
      "metadata": {
        "id": "pf0bWfQBdtpL",
        "colab_type": "text"
      },
      "source": [
        "Once compiled, you can kick off the training process. There are two important training parameters that you have to specify - **batch size** and **number of training epochs**, which together with your model architecture determine the total training time.\n",
        "\n",
        "Training may take a while, so grab a cup of coffee, or better, go for a hike! If possible, consider using a GPU, as a single training run can take several hours on a CPU.\n",
        "\n",
        "> **Tip**: You can split off a small portion of the training set to be used for validation during training. This will help monitor the training process and identify potential overfitting. You can supply a validation set to `model.fit()` using its `validation_data` parameter, or just specify `validation_split` - a fraction of the training data for Keras to set aside for this purpose (typically 5-10%). Validation metrics are evaluated once at the end of each epoch."
      ]
    },
    {
      "cell_type": "code",
      "metadata": {
        "id": "yqSPTlxTdtpO",
        "colab_type": "code",
        "colab": {
          "base_uri": "https://localhost:8080/",
          "height": 213
        },
        "outputId": "e9b457d6-32a4-4a99-a738-cd5f4ccc43cc"
      },
      "source": [
        "# TODO: Specify training parameters: batch size and number of epochs\n",
        "batch_size = 64\n",
        "num_epochs = 3\n",
        "\n",
        "# TODO(optional): Reserve/specify some training data for validation (not to be used for training)\n",
        "X_valid, y_valid = X_train_p[:batch_size], y_train[:batch_size]\n",
        "X_train2, y_train2 = X_train_p[batch_size:], y_train[batch_size:]\n",
        "# TODO: Train your model\n",
        "model.fit(X_train2, y_train2,\n",
        "         validation_data=(X_valid, y_valid),\n",
        "         batch_size=batch_size,\n",
        "         epochs=num_epochs)"
      ],
      "execution_count": 34,
      "outputs": [
        {
          "output_type": "stream",
          "text": [
            "W0615 10:28:06.293713 140612155504512 deprecation_wrapper.py:119] From /usr/local/lib/python3.6/dist-packages/keras/backend/tensorflow_backend.py:986: The name tf.assign_add is deprecated. Please use tf.compat.v1.assign_add instead.\n",
            "\n"
          ],
          "name": "stderr"
        },
        {
          "output_type": "stream",
          "text": [
            "Train on 24936 samples, validate on 64 samples\n",
            "Epoch 1/3\n",
            "24936/24936 [==============================] - 302s 12ms/step - loss: 0.4988 - acc: 0.7576 - val_loss: 0.2482 - val_acc: 0.9375\n",
            "Epoch 2/3\n",
            "24936/24936 [==============================] - 293s 12ms/step - loss: 0.2995 - acc: 0.8794 - val_loss: 0.2595 - val_acc: 0.8750\n",
            "Epoch 3/3\n",
            "24936/24936 [==============================] - 290s 12ms/step - loss: 0.2376 - acc: 0.9065 - val_loss: 0.2088 - val_acc: 0.9375\n"
          ],
          "name": "stdout"
        },
        {
          "output_type": "execute_result",
          "data": {
            "text/plain": [
              "<keras.callbacks.History at 0x7fe27cb5b6a0>"
            ]
          },
          "metadata": {
            "tags": []
          },
          "execution_count": 34
        }
      ]
    },
    {
      "cell_type": "code",
      "metadata": {
        "id": "bGQ1sqordtpV",
        "colab_type": "code",
        "colab": {}
      },
      "source": [
        "import os\n",
        "# Save your model, so that you can quickly load it in future (and perhaps resume training)\n",
        "model_file = \"rnn_model.h5\"  # HDF5 file\n",
        "model.save(os.path.join('/content', model_file))\n",
        "\n",
        "# Later you can load it using keras.models.load_model()\n",
        "#from keras.models import load_model\n",
        "#model = load_model(os.path.join(cache_dir, model_file))"
      ],
      "execution_count": 0,
      "outputs": []
    },
    {
      "cell_type": "markdown",
      "metadata": {
        "id": "jmD6IqVBdtpd",
        "colab_type": "text"
      },
      "source": [
        "Once you have trained your model, it's time to see how well it performs on unseen test data."
      ]
    },
    {
      "cell_type": "code",
      "metadata": {
        "id": "ssYWxFv7dtph",
        "colab_type": "code",
        "colab": {
          "base_uri": "https://localhost:8080/",
          "height": 34
        },
        "outputId": "90771697-bdb2-4b78-9f56-94b330adbc75"
      },
      "source": [
        "# Evaluate your model on the test set\n",
        "scores = model.evaluate(X_test_p, y_test, verbose=0)  # returns loss and other metrics specified in model.compile()\n",
        "print(\"Test accuracy:\", scores[1])  # scores[1] should correspond to accuracy if you passed in metrics=['accuracy']"
      ],
      "execution_count": 39,
      "outputs": [
        {
          "output_type": "stream",
          "text": [
            "Test accuracy: 0.87432\n"
          ],
          "name": "stdout"
        }
      ]
    },
    {
      "cell_type": "markdown",
      "metadata": {
        "id": "p848CCCcdtpr",
        "colab_type": "text"
      },
      "source": [
        "#### Question: Comparing RNNs and Traditional Methods\n",
        "\n",
        "How well does your RNN model perform compared to the BoW + Gradient-Boosted Decision Trees?\n",
        "\n",
        "#### Answer:\n",
        "\n",
        "...\n",
        "\n",
        "## Extensions\n",
        "\n",
        "There are several ways in which you can build upon this notebook. Each comes with its set of challenges, but can be a rewarding experience.\n",
        "\n",
        "- The first thing is to try and improve the accuracy of your model by experimenting with different architectures, layers and parameters. How good can you get without taking prohibitively long to train? How do you prevent overfitting?\n",
        "\n",
        "- Then, you may want to deploy your model as a mobile app or web service. What do you need to do in order to package your model for such deployment? How would you accept a new review, convert it into a form suitable for your model, and perform the actual prediction? (Note that the same environment you used during training may not be available.)\n",
        "\n",
        "- One simplification we made in this notebook is to limit the task to binary classification. The dataset actually includes a more fine-grained review rating that is indicated in each review's filename (which is of the form `<[id]_[rating].txt>` where `[id]` is a unique identifier and `[rating]` is on a scale of 1-10; note that neutral reviews > 4 or < 7 have been excluded). How would you modify the notebook to perform regression on the review ratings? In what situations is regression more useful than classification, and vice-versa?\n",
        "\n",
        "Whatever direction you take, make sure to share your results and learnings with your peers, through blogs, discussions and participating in online competitions. This is also a great way to become more visible to potential employers!"
      ]
    },
    {
      "cell_type": "code",
      "metadata": {
        "id": "eEdQjXgVdtpt",
        "colab_type": "code",
        "colab": {}
      },
      "source": [
        ""
      ],
      "execution_count": 0,
      "outputs": []
    }
  ]
}