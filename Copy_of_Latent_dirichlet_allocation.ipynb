{
  "nbformat": 4,
  "nbformat_minor": 0,
  "metadata": {
    "colab": {
      "name": "Copy of Latent_dirichlet_allocation.ipynb",
      "version": "0.3.2",
      "provenance": [],
      "include_colab_link": true
    },
    "language_info": {
      "codemirror_mode": {
        "name": "ipython",
        "version": 3
      },
      "file_extension": ".py",
      "mimetype": "text/x-python",
      "name": "python",
      "nbconvert_exporter": "python",
      "pygments_lexer": "ipython3",
      "version": "3.6.1"
    },
    "kernelspec": {
      "name": "python3",
      "display_name": "Python 3"
    },
    "accelerator": "GPU"
  },
  "cells": [
    {
      "cell_type": "markdown",
      "metadata": {
        "id": "view-in-github",
        "colab_type": "text"
      },
      "source": [
        "<a href=\"https://colab.research.google.com/github/helloalexian/Machine-Learning/blob/master/Copy_of_Latent_dirichlet_allocation.ipynb\" target=\"_parent\"><img src=\"https://colab.research.google.com/assets/colab-badge.svg\" alt=\"Open In Colab\"/></a>"
      ]
    },
    {
      "cell_type": "markdown",
      "metadata": {
        "id": "KgZ0GY_vzvux",
        "colab_type": "text"
      },
      "source": [
        "## Step 0: Latent Dirichlet Allocation ##\n",
        "\n",
        "LDA is used to classify text in a document to a particular topic. It builds a topic per document model and words per topic model, modeled as Dirichlet distributions. \n",
        "\n",
        "* Each document is modeled as a multinomial distribution of topics and each topic is modeled as a multinomial distribution of words.\n",
        "* LDA assumes that the every chunk of text we feed into it will contain words that are somehow related. Therefore choosing the right corpus of data is crucial. \n",
        "* It also assumes documents are produced from a mixture of topics. Those topics then generate words based on their probability distribution. "
      ]
    },
    {
      "cell_type": "markdown",
      "metadata": {
        "id": "1o20FHn1zvuz",
        "colab_type": "text"
      },
      "source": [
        "## Step 1: Load the dataset\n",
        "\n",
        "The dataset we'll use is a list of over one million news headlines published over a period of 15 years. We'll start by loading it from the `abcnews-date-text.csv` file."
      ]
    },
    {
      "cell_type": "code",
      "metadata": {
        "id": "y7TW1YGzzvu1",
        "colab_type": "code",
        "colab": {}
      },
      "source": [
        "'''\n",
        "Load the dataset from the CSV and save it to 'data_text'\n",
        "'''\n",
        "import pandas as pd\n",
        "data = pd.read_csv('abcnews-date-text.csv', error_bad_lines=False);\n",
        "# We only need the Headlines text column from the data\n",
        "data_text = data[:300000][['headline_text']];\n",
        "data_text['index'] = data_text.index\n",
        "\n",
        "documents = data_text"
      ],
      "execution_count": 0,
      "outputs": []
    },
    {
      "cell_type": "markdown",
      "metadata": {
        "id": "2SSO0w36zvu7",
        "colab_type": "text"
      },
      "source": [
        "Let's glance at the dataset:"
      ]
    },
    {
      "cell_type": "code",
      "metadata": {
        "id": "ReZBmXYXzvu8",
        "colab_type": "code",
        "colab": {
          "base_uri": "https://localhost:8080/",
          "height": 34
        },
        "outputId": "1b2ea87b-9945-49d5-a1a8-4aeffd604dd0"
      },
      "source": [
        "'''\n",
        "Get the total number of documents\n",
        "'''\n",
        "print(len(documents))"
      ],
      "execution_count": 3,
      "outputs": [
        {
          "output_type": "stream",
          "text": [
            "300000\n"
          ],
          "name": "stdout"
        }
      ]
    },
    {
      "cell_type": "code",
      "metadata": {
        "id": "-4IDDS-9zvvC",
        "colab_type": "code",
        "colab": {
          "base_uri": "https://localhost:8080/",
          "height": 203
        },
        "outputId": "23ffa78b-608a-4405-9e92-36e0dd2014dc"
      },
      "source": [
        "documents[:5]"
      ],
      "execution_count": 4,
      "outputs": [
        {
          "output_type": "execute_result",
          "data": {
            "text/html": [
              "<div>\n",
              "<style scoped>\n",
              "    .dataframe tbody tr th:only-of-type {\n",
              "        vertical-align: middle;\n",
              "    }\n",
              "\n",
              "    .dataframe tbody tr th {\n",
              "        vertical-align: top;\n",
              "    }\n",
              "\n",
              "    .dataframe thead th {\n",
              "        text-align: right;\n",
              "    }\n",
              "</style>\n",
              "<table border=\"1\" class=\"dataframe\">\n",
              "  <thead>\n",
              "    <tr style=\"text-align: right;\">\n",
              "      <th></th>\n",
              "      <th>headline_text</th>\n",
              "      <th>index</th>\n",
              "    </tr>\n",
              "  </thead>\n",
              "  <tbody>\n",
              "    <tr>\n",
              "      <th>0</th>\n",
              "      <td>aba decides against community broadcasting lic...</td>\n",
              "      <td>0</td>\n",
              "    </tr>\n",
              "    <tr>\n",
              "      <th>1</th>\n",
              "      <td>act fire witnesses must be aware of defamation</td>\n",
              "      <td>1</td>\n",
              "    </tr>\n",
              "    <tr>\n",
              "      <th>2</th>\n",
              "      <td>a g calls for infrastructure protection summit</td>\n",
              "      <td>2</td>\n",
              "    </tr>\n",
              "    <tr>\n",
              "      <th>3</th>\n",
              "      <td>air nz staff in aust strike for pay rise</td>\n",
              "      <td>3</td>\n",
              "    </tr>\n",
              "    <tr>\n",
              "      <th>4</th>\n",
              "      <td>air nz strike to affect australian travellers</td>\n",
              "      <td>4</td>\n",
              "    </tr>\n",
              "  </tbody>\n",
              "</table>\n",
              "</div>"
            ],
            "text/plain": [
              "                                       headline_text  index\n",
              "0  aba decides against community broadcasting lic...      0\n",
              "1     act fire witnesses must be aware of defamation      1\n",
              "2     a g calls for infrastructure protection summit      2\n",
              "3           air nz staff in aust strike for pay rise      3\n",
              "4      air nz strike to affect australian travellers      4"
            ]
          },
          "metadata": {
            "tags": []
          },
          "execution_count": 4
        }
      ]
    },
    {
      "cell_type": "markdown",
      "metadata": {
        "id": "DZCh8AFszvvH",
        "colab_type": "text"
      },
      "source": [
        "## Step 2: Data Preprocessing ##\n",
        "\n",
        "We will perform the following steps:\n",
        "\n",
        "* **Tokenization**: Split the text into sentences and the sentences into words. Lowercase the words and remove punctuation.\n",
        "* Words that have fewer than 3 characters are removed.\n",
        "* All **stopwords** are removed.\n",
        "* Words are **lemmatized** - words in third person are changed to first person and verbs in past and future tenses are changed into present.\n",
        "* Words are **stemmed** - words are reduced to their root form.\n"
      ]
    },
    {
      "cell_type": "code",
      "metadata": {
        "id": "7m3-CEfRzvvJ",
        "colab_type": "code",
        "colab": {}
      },
      "source": [
        "'''\n",
        "Loading Gensim and nltk libraries\n",
        "'''\n",
        "# pip install gensim\n",
        "import gensim\n",
        "from gensim.utils import simple_preprocess\n",
        "from gensim.parsing.preprocessing import STOPWORDS\n",
        "from nltk.stem import WordNetLemmatizer, SnowballStemmer\n",
        "from nltk.stem.porter import *\n",
        "import numpy as np\n",
        "np.random.seed(400)"
      ],
      "execution_count": 0,
      "outputs": []
    },
    {
      "cell_type": "code",
      "metadata": {
        "id": "YOfzgRVKzvvO",
        "colab_type": "code",
        "colab": {
          "base_uri": "https://localhost:8080/",
          "height": 70
        },
        "outputId": "cacd01c9-63d1-4b66-a9c8-80e29f24de02"
      },
      "source": [
        "import nltk\n",
        "nltk.download('wordnet')"
      ],
      "execution_count": 6,
      "outputs": [
        {
          "output_type": "stream",
          "text": [
            "[nltk_data] Downloading package wordnet to /root/nltk_data...\n",
            "[nltk_data]   Unzipping corpora/wordnet.zip.\n"
          ],
          "name": "stdout"
        },
        {
          "output_type": "execute_result",
          "data": {
            "text/plain": [
              "True"
            ]
          },
          "metadata": {
            "tags": []
          },
          "execution_count": 6
        }
      ]
    },
    {
      "cell_type": "markdown",
      "metadata": {
        "id": "6dvxwmNDzvvU",
        "colab_type": "text"
      },
      "source": [
        "### Lemmatizer Example\n",
        "Before preprocessing our dataset, let's first look at an lemmatizing example. What would be the output if we lemmatized the word 'went':"
      ]
    },
    {
      "cell_type": "code",
      "metadata": {
        "id": "-eSjiqZhzvvV",
        "colab_type": "code",
        "colab": {
          "base_uri": "https://localhost:8080/",
          "height": 34
        },
        "outputId": "701d025a-7f79-4772-cdd1-21d0e1918cfa"
      },
      "source": [
        "print(WordNetLemmatizer().lemmatize('went', pos = 'v')) # past tense to present tense"
      ],
      "execution_count": 7,
      "outputs": [
        {
          "output_type": "stream",
          "text": [
            "go\n"
          ],
          "name": "stdout"
        }
      ]
    },
    {
      "cell_type": "markdown",
      "metadata": {
        "id": "rUEmAbIxzvva",
        "colab_type": "text"
      },
      "source": [
        "### Stemmer Example\n",
        "Let's also look at a stemming example. Let's throw a number of words at the stemmer and see how it deals with each one:"
      ]
    },
    {
      "cell_type": "code",
      "metadata": {
        "id": "n_NRMzgbzvvc",
        "colab_type": "code",
        "colab": {
          "base_uri": "https://localhost:8080/",
          "height": 636
        },
        "outputId": "023c582d-091d-454d-bbb1-210873b06e6f"
      },
      "source": [
        "stemmer = SnowballStemmer(\"english\")\n",
        "original_words = ['caresses', 'flies', 'dies', 'mules', 'denied','died', 'agreed', 'owned', \n",
        "           'humbled', 'sized','meeting', 'stating', 'siezing', 'itemization','sensational', \n",
        "           'traditional', 'reference', 'colonizer','plotted']\n",
        "singles = [stemmer.stem(plural) for plural in original_words]\n",
        "\n",
        "pd.DataFrame(data={'original word':original_words, 'stemmed':singles })"
      ],
      "execution_count": 8,
      "outputs": [
        {
          "output_type": "execute_result",
          "data": {
            "text/html": [
              "<div>\n",
              "<style scoped>\n",
              "    .dataframe tbody tr th:only-of-type {\n",
              "        vertical-align: middle;\n",
              "    }\n",
              "\n",
              "    .dataframe tbody tr th {\n",
              "        vertical-align: top;\n",
              "    }\n",
              "\n",
              "    .dataframe thead th {\n",
              "        text-align: right;\n",
              "    }\n",
              "</style>\n",
              "<table border=\"1\" class=\"dataframe\">\n",
              "  <thead>\n",
              "    <tr style=\"text-align: right;\">\n",
              "      <th></th>\n",
              "      <th>original word</th>\n",
              "      <th>stemmed</th>\n",
              "    </tr>\n",
              "  </thead>\n",
              "  <tbody>\n",
              "    <tr>\n",
              "      <th>0</th>\n",
              "      <td>caresses</td>\n",
              "      <td>caress</td>\n",
              "    </tr>\n",
              "    <tr>\n",
              "      <th>1</th>\n",
              "      <td>flies</td>\n",
              "      <td>fli</td>\n",
              "    </tr>\n",
              "    <tr>\n",
              "      <th>2</th>\n",
              "      <td>dies</td>\n",
              "      <td>die</td>\n",
              "    </tr>\n",
              "    <tr>\n",
              "      <th>3</th>\n",
              "      <td>mules</td>\n",
              "      <td>mule</td>\n",
              "    </tr>\n",
              "    <tr>\n",
              "      <th>4</th>\n",
              "      <td>denied</td>\n",
              "      <td>deni</td>\n",
              "    </tr>\n",
              "    <tr>\n",
              "      <th>5</th>\n",
              "      <td>died</td>\n",
              "      <td>die</td>\n",
              "    </tr>\n",
              "    <tr>\n",
              "      <th>6</th>\n",
              "      <td>agreed</td>\n",
              "      <td>agre</td>\n",
              "    </tr>\n",
              "    <tr>\n",
              "      <th>7</th>\n",
              "      <td>owned</td>\n",
              "      <td>own</td>\n",
              "    </tr>\n",
              "    <tr>\n",
              "      <th>8</th>\n",
              "      <td>humbled</td>\n",
              "      <td>humbl</td>\n",
              "    </tr>\n",
              "    <tr>\n",
              "      <th>9</th>\n",
              "      <td>sized</td>\n",
              "      <td>size</td>\n",
              "    </tr>\n",
              "    <tr>\n",
              "      <th>10</th>\n",
              "      <td>meeting</td>\n",
              "      <td>meet</td>\n",
              "    </tr>\n",
              "    <tr>\n",
              "      <th>11</th>\n",
              "      <td>stating</td>\n",
              "      <td>state</td>\n",
              "    </tr>\n",
              "    <tr>\n",
              "      <th>12</th>\n",
              "      <td>siezing</td>\n",
              "      <td>siez</td>\n",
              "    </tr>\n",
              "    <tr>\n",
              "      <th>13</th>\n",
              "      <td>itemization</td>\n",
              "      <td>item</td>\n",
              "    </tr>\n",
              "    <tr>\n",
              "      <th>14</th>\n",
              "      <td>sensational</td>\n",
              "      <td>sensat</td>\n",
              "    </tr>\n",
              "    <tr>\n",
              "      <th>15</th>\n",
              "      <td>traditional</td>\n",
              "      <td>tradit</td>\n",
              "    </tr>\n",
              "    <tr>\n",
              "      <th>16</th>\n",
              "      <td>reference</td>\n",
              "      <td>refer</td>\n",
              "    </tr>\n",
              "    <tr>\n",
              "      <th>17</th>\n",
              "      <td>colonizer</td>\n",
              "      <td>colon</td>\n",
              "    </tr>\n",
              "    <tr>\n",
              "      <th>18</th>\n",
              "      <td>plotted</td>\n",
              "      <td>plot</td>\n",
              "    </tr>\n",
              "  </tbody>\n",
              "</table>\n",
              "</div>"
            ],
            "text/plain": [
              "   original word stemmed\n",
              "0       caresses  caress\n",
              "1          flies     fli\n",
              "2           dies     die\n",
              "3          mules    mule\n",
              "4         denied    deni\n",
              "5           died     die\n",
              "6         agreed    agre\n",
              "7          owned     own\n",
              "8        humbled   humbl\n",
              "9          sized    size\n",
              "10       meeting    meet\n",
              "11       stating   state\n",
              "12       siezing    siez\n",
              "13   itemization    item\n",
              "14   sensational  sensat\n",
              "15   traditional  tradit\n",
              "16     reference   refer\n",
              "17     colonizer   colon\n",
              "18       plotted    plot"
            ]
          },
          "metadata": {
            "tags": []
          },
          "execution_count": 8
        }
      ]
    },
    {
      "cell_type": "code",
      "metadata": {
        "id": "BwxR8gA6zvvj",
        "colab_type": "code",
        "colab": {}
      },
      "source": [
        "'''\n",
        "Write a function to perform the pre processing steps on the entire dataset\n",
        "'''\n",
        "def lemmatize_stemming(text):\n",
        "    return stemmer.stem(WordNetLemmatizer().lemmatize(text, pos='v'))\n",
        "\n",
        "# Tokenize and lemmatize\n",
        "def preprocess(text):\n",
        "    result=[]\n",
        "    for token in gensim.utils.simple_preprocess(text) :\n",
        "        if token not in gensim.parsing.preprocessing.STOPWORDS and len(token) > 3:\n",
        "            # TODO: Apply lemmatize_stemming() on the token, then add to the results list\n",
        "            result.append(lemmatize_stemming(token))\n",
        "            \n",
        "    return result\n",
        "\n"
      ],
      "execution_count": 0,
      "outputs": []
    },
    {
      "cell_type": "code",
      "metadata": {
        "id": "g1ktGaXfzvvr",
        "colab_type": "code",
        "colab": {
          "base_uri": "https://localhost:8080/",
          "height": 122
        },
        "outputId": "350f3139-f671-4862-b9ba-69e12ec89dd6"
      },
      "source": [
        "'''\n",
        "Preview a document after preprocessing\n",
        "'''\n",
        "document_num = 4310\n",
        "doc_sample = documents[documents['index'] == document_num].values[0][0]\n",
        "\n",
        "print(\"Original document: \")\n",
        "words = []\n",
        "for word in doc_sample.split(' '):\n",
        "    words.append(word)\n",
        "print(words)\n",
        "print(\"\\n\\nTokenized and lemmatized document: \")\n",
        "print(preprocess(doc_sample))"
      ],
      "execution_count": 10,
      "outputs": [
        {
          "output_type": "stream",
          "text": [
            "Original document: \n",
            "['rain', 'helps', 'dampen', 'bushfires']\n",
            "\n",
            "\n",
            "Tokenized and lemmatized document: \n",
            "['rain', 'help', 'dampen', 'bushfir']\n"
          ],
          "name": "stdout"
        }
      ]
    },
    {
      "cell_type": "code",
      "metadata": {
        "scrolled": true,
        "id": "OeWoCU07zvvy",
        "colab_type": "code",
        "colab": {
          "base_uri": "https://localhost:8080/",
          "height": 210
        },
        "outputId": "e8c20315-2cfe-46ae-e7b9-ca50f4c2b0f6"
      },
      "source": [
        "documents.headline_text[:10]"
      ],
      "execution_count": 28,
      "outputs": [
        {
          "output_type": "execute_result",
          "data": {
            "text/plain": [
              "0    aba decides against community broadcasting lic...\n",
              "1       act fire witnesses must be aware of defamation\n",
              "2       a g calls for infrastructure protection summit\n",
              "3             air nz staff in aust strike for pay rise\n",
              "4        air nz strike to affect australian travellers\n",
              "5                    ambitious olsson wins triple jump\n",
              "6           antic delighted with record breaking barca\n",
              "7    aussie qualifier stosur wastes four memphis match\n",
              "8         aust addresses un security council over iraq\n",
              "9           australia is locked into war timetable opp\n",
              "Name: headline_text, dtype: object"
            ]
          },
          "metadata": {
            "tags": []
          },
          "execution_count": 28
        }
      ]
    },
    {
      "cell_type": "markdown",
      "metadata": {
        "id": "yN--L5lKzvv3",
        "colab_type": "text"
      },
      "source": [
        "Let's now preprocess all the news headlines we have. To do that, let's use the [map](https://pandas.pydata.org/pandas-docs/stable/generated/pandas.Series.map.html) function from pandas to apply `preprocess()` to the `headline_text` column\n",
        "\n",
        "**Note**: This may take a few minutes (it take 6 minutes on my laptop)"
      ]
    },
    {
      "cell_type": "code",
      "metadata": {
        "id": "Hojfselazvv4",
        "colab_type": "code",
        "colab": {}
      },
      "source": [
        "# TODO: preprocess all the headlines, saving the list of results as 'processed_docs'\n",
        "processed_docs = documents.headline_text.map(preprocess)"
      ],
      "execution_count": 0,
      "outputs": []
    },
    {
      "cell_type": "code",
      "metadata": {
        "id": "fbdQG60azvv-",
        "colab_type": "code",
        "colab": {
          "base_uri": "https://localhost:8080/",
          "height": 210
        },
        "outputId": "9488d65b-1457-4daf-a28e-36a5e279357e"
      },
      "source": [
        "'''\n",
        "Preview 'processed_docs'\n",
        "'''\n",
        "processed_docs[:10]"
      ],
      "execution_count": 27,
      "outputs": [
        {
          "output_type": "execute_result",
          "data": {
            "text/plain": [
              "0            [decid, communiti, broadcast, licenc]\n",
              "1                               [wit, awar, defam]\n",
              "2           [call, infrastructur, protect, summit]\n",
              "3                      [staff, aust, strike, rise]\n",
              "4             [strike, affect, australian, travel]\n",
              "5               [ambiti, olsson, win, tripl, jump]\n",
              "6           [antic, delight, record, break, barca]\n",
              "7    [aussi, qualifi, stosur, wast, memphi, match]\n",
              "8            [aust, address, secur, council, iraq]\n",
              "9                         [australia, lock, timet]\n",
              "Name: headline_text, dtype: object"
            ]
          },
          "metadata": {
            "tags": []
          },
          "execution_count": 27
        }
      ]
    },
    {
      "cell_type": "markdown",
      "metadata": {
        "id": "hFTAWDTczvwC",
        "colab_type": "text"
      },
      "source": [
        "## Step 3.1: Bag of words on the dataset\n",
        "\n",
        "Now let's create a dictionary from 'processed_docs' containing the number of times a word appears in the training set. To do that, let's pass `processed_docs` to [`gensim.corpora.Dictionary()`](https://radimrehurek.com/gensim/corpora/dictionary.html) and call it '`dictionary`'."
      ]
    },
    {
      "cell_type": "code",
      "metadata": {
        "id": "sgU7AcpdzvwE",
        "colab_type": "code",
        "colab": {}
      },
      "source": [
        "'''\n",
        "Create a dictionary from 'processed_docs' containing the number of times a word appears \n",
        "in the training set using gensim.corpora.Dictionary and call it 'dictionary'\n",
        "'''\n",
        "dictionary = gensim.corpora.Dictionary(processed_docs)"
      ],
      "execution_count": 0,
      "outputs": []
    },
    {
      "cell_type": "code",
      "metadata": {
        "id": "OiBUYxNpzvwJ",
        "colab_type": "code",
        "colab": {
          "base_uri": "https://localhost:8080/",
          "height": 210
        },
        "outputId": "41faba66-8f9c-4ac3-d354-1218e865778e"
      },
      "source": [
        "'''\n",
        "Checking dictionary created\n",
        "'''\n",
        "count = 0\n",
        "for k, v in dictionary.iteritems():\n",
        "    print(k, v)\n",
        "    count += 1\n",
        "    if count > 10:\n",
        "        break"
      ],
      "execution_count": 30,
      "outputs": [
        {
          "output_type": "stream",
          "text": [
            "0 broadcast\n",
            "1 communiti\n",
            "2 decid\n",
            "3 licenc\n",
            "4 awar\n",
            "5 defam\n",
            "6 wit\n",
            "7 call\n",
            "8 infrastructur\n",
            "9 protect\n",
            "10 summit\n"
          ],
          "name": "stdout"
        }
      ]
    },
    {
      "cell_type": "markdown",
      "metadata": {
        "id": "fMIDcQ2FzvwO",
        "colab_type": "text"
      },
      "source": [
        "** Gensim filter_extremes **\n",
        "\n",
        "[`filter_extremes(no_below=5, no_above=0.5, keep_n=100000)`](https://radimrehurek.com/gensim/corpora/dictionary.html#gensim.corpora.dictionary.Dictionary.filter_extremes)\n",
        "\n",
        "Filter out tokens that appear in\n",
        "\n",
        "* less than no_below documents (absolute number) or\n",
        "* more than no_above documents (fraction of total corpus size, not absolute number).\n",
        "* after (1) and (2), keep only the first keep_n most frequent tokens (or keep all if None)."
      ]
    },
    {
      "cell_type": "code",
      "metadata": {
        "id": "YquazoSXzvwQ",
        "colab_type": "code",
        "colab": {}
      },
      "source": [
        "'''\n",
        "OPTIONAL STEP\n",
        "Remove very rare and very common words:\n",
        "\n",
        "- words appearing less than 15 times\n",
        "- words appearing in more than 10% of all documents\n",
        "'''\n",
        "# TODO: apply dictionary.filter_extremes() with the parameters mentioned above\n",
        "\n",
        "dictionary.filter_extremes(no_below=15, no_above=10)"
      ],
      "execution_count": 0,
      "outputs": []
    },
    {
      "cell_type": "markdown",
      "metadata": {
        "id": "9e-LHpw0zvwV",
        "colab_type": "text"
      },
      "source": [
        "** Gensim doc2bow **\n",
        "\n",
        "[`doc2bow(document)`](https://radimrehurek.com/gensim/corpora/dictionary.html#gensim.corpora.dictionary.Dictionary.doc2bow)\n",
        "\n",
        "* Convert document (a list of words) into the bag-of-words format = list of (token_id, token_count) 2-tuples. Each word is assumed to be a tokenized and normalized string (either unicode or utf8-encoded). No further preprocessing is done on the words in document; apply tokenization, stemming etc. before calling this method."
      ]
    },
    {
      "cell_type": "code",
      "metadata": {
        "id": "NrOFoK-azvwW",
        "colab_type": "code",
        "colab": {}
      },
      "source": [
        "'''\n",
        "Create the Bag-of-words model for each document i.e for each document we create a dictionary reporting how many\n",
        "words and how many times those words appear. Save this to 'bow_corpus'\n",
        "'''\n",
        "# TODO\n",
        "bow_corpus = [dictionary.doc2bow(doc) for doc in processed_docs]"
      ],
      "execution_count": 0,
      "outputs": []
    },
    {
      "cell_type": "code",
      "metadata": {
        "id": "E-ta-kHtzvwe",
        "colab_type": "code",
        "colab": {
          "base_uri": "https://localhost:8080/",
          "height": 34
        },
        "outputId": "65f70236-41b4-43e7-deb0-f878d3286d06"
      },
      "source": [
        "'''\n",
        "Checking Bag of Words corpus for our sample document --> (token_id, token_count)\n",
        "'''\n",
        "bow_corpus[document_num]"
      ],
      "execution_count": 37,
      "outputs": [
        {
          "output_type": "execute_result",
          "data": {
            "text/plain": [
              "[(71, 1), (107, 1), (462, 1), (3530, 1)]"
            ]
          },
          "metadata": {
            "tags": []
          },
          "execution_count": 37
        }
      ]
    },
    {
      "cell_type": "code",
      "metadata": {
        "id": "dwnFlCu2zvwn",
        "colab_type": "code",
        "colab": {
          "base_uri": "https://localhost:8080/",
          "height": 87
        },
        "outputId": "226b2dc8-e3c5-4ff3-8f6e-cfe49c5afc13"
      },
      "source": [
        "'''\n",
        "Preview BOW for our sample preprocessed document\n",
        "'''\n",
        "# Here document_num is document number 4310 which we have checked in Step 2\n",
        "bow_doc_4310 = bow_corpus[document_num]\n",
        "\n",
        "for i in range(len(bow_doc_4310)):\n",
        "    print(\"Word {} (\\\"{}\\\") appears {} time.\".format(bow_doc_4310[i][0], \n",
        "                                                     dictionary[bow_doc_4310[i][0]], \n",
        "                                                     bow_doc_4310[i][1]))"
      ],
      "execution_count": 38,
      "outputs": [
        {
          "output_type": "stream",
          "text": [
            "Word 71 (\"bushfir\") appears 1 time.\n",
            "Word 107 (\"help\") appears 1 time.\n",
            "Word 462 (\"rain\") appears 1 time.\n",
            "Word 3530 (\"dampen\") appears 1 time.\n"
          ],
          "name": "stdout"
        }
      ]
    },
    {
      "cell_type": "markdown",
      "metadata": {
        "id": "EBWDdT5Xzvww",
        "colab_type": "text"
      },
      "source": [
        "## Step 3.2: TF-IDF on our document set ##\n",
        "\n",
        "While performing TF-IDF on the corpus is not necessary for LDA implemention using the gensim model, it is recemmended. TF-IDF expects a bag-of-words (integer values) training corpus during initialization. During transformation, it will take a vector and return another vector of the same dimensionality.\n",
        "\n",
        "*Please note: The author of Gensim dictates the standard procedure for LDA to be using the Bag of Words model.*"
      ]
    },
    {
      "cell_type": "markdown",
      "metadata": {
        "id": "0h-Ygfv0zvwx",
        "colab_type": "text"
      },
      "source": [
        "** TF-IDF stands for \"Term Frequency, Inverse Document Frequency\".**\n",
        "\n",
        "* It is a way to score the importance of words (or \"terms\") in a document based on how frequently they appear across multiple documents.\n",
        "* If a word appears frequently in a document, it's important. Give the word a high score. But if a word appears in many documents, it's not a unique identifier. Give the word a low score.\n",
        "* Therefore, common words like \"the\" and \"for\", which appear in many documents, will be scaled down. Words that appear frequently in a single document will be scaled up.\n",
        "\n",
        "In other words:\n",
        "\n",
        "* TF(w) = `(Number of times term w appears in a document) / (Total number of terms in the document)`.\n",
        "* IDF(w) = `log_e(Total number of documents / Number of documents with term w in it)`.\n",
        "\n",
        "** For example **\n",
        "\n",
        "* Consider a document containing `100` words wherein the word 'tiger' appears 3 times. \n",
        "* The term frequency (i.e., tf) for 'tiger' is then: \n",
        "    - `TF = (3 / 100) = 0.03`. \n",
        "\n",
        "* Now, assume we have `10 million` documents and the word 'tiger' appears in `1000` of these. Then, the inverse document frequency (i.e., idf) is calculated as:\n",
        "    - `IDF = log(10,000,000 / 1,000) = 4`. \n",
        "\n",
        "* Thus, the Tf-idf weight is the product of these quantities: \n",
        "    - `TF-IDF = 0.03 * 4 = 0.12`."
      ]
    },
    {
      "cell_type": "code",
      "metadata": {
        "id": "iLgOCfwuzvwz",
        "colab_type": "code",
        "colab": {}
      },
      "source": [
        "'''\n",
        "Create tf-idf model object using models.TfidfModel on 'bow_corpus' and save it to 'tfidf'\n",
        "'''\n",
        "from gensim import corpora, models\n",
        "\n",
        "# TODO\n",
        "tfidf = models.TfidfModel(bow_corpus)"
      ],
      "execution_count": 0,
      "outputs": []
    },
    {
      "cell_type": "code",
      "metadata": {
        "id": "V4fZyfT1zvw3",
        "colab_type": "code",
        "colab": {}
      },
      "source": [
        "'''\n",
        "Apply transformation to the entire corpus and call it 'corpus_tfidf'\n",
        "'''\n",
        "# TODO\n",
        "corpus_tfidf = tfidf[bow_corpus]"
      ],
      "execution_count": 0,
      "outputs": []
    },
    {
      "cell_type": "code",
      "metadata": {
        "id": "miq2yGn5TDE-",
        "colab_type": "code",
        "colab": {
          "base_uri": "https://localhost:8080/",
          "height": 34
        },
        "outputId": "ee23430c-37ac-4374-f7f3-e4957c470fc8"
      },
      "source": [
        "type(corpus_tfidf)"
      ],
      "execution_count": 44,
      "outputs": [
        {
          "output_type": "execute_result",
          "data": {
            "text/plain": [
              "gensim.interfaces.TransformedCorpus"
            ]
          },
          "metadata": {
            "tags": []
          },
          "execution_count": 44
        }
      ]
    },
    {
      "cell_type": "code",
      "metadata": {
        "id": "D3xjxjYSzvw8",
        "colab_type": "code",
        "colab": {
          "base_uri": "https://localhost:8080/",
          "height": 87
        },
        "outputId": "d13fa2e9-333c-4b0f-efc1-f81ed3d4cf5d"
      },
      "source": [
        "'''\n",
        "Preview TF-IDF scores for our first document --> --> (token_id, tfidf score)\n",
        "'''\n",
        "from pprint import pprint\n",
        "for doc in corpus_tfidf:\n",
        "    pprint(doc)\n",
        "    break"
      ],
      "execution_count": 42,
      "outputs": [
        {
          "output_type": "stream",
          "text": [
            "[(0, 0.5959813347777092),\n",
            " (1, 0.39204529549491984),\n",
            " (2, 0.48531419274988147),\n",
            " (3, 0.5055461098578569)]\n"
          ],
          "name": "stdout"
        }
      ]
    },
    {
      "cell_type": "markdown",
      "metadata": {
        "id": "gi3u4Jy2zvxB",
        "colab_type": "text"
      },
      "source": [
        "## Step 4.1: Running LDA using Bag of Words ##\n",
        "\n",
        "We are going for 10 topics in the document corpus.\n",
        "\n",
        "** We will be running LDA using all CPU cores to parallelize and speed up model training.**\n",
        "\n",
        "Some of the parameters we will be tweaking are:\n",
        "\n",
        "* **num_topics** is the number of requested latent topics to be extracted from the training corpus.\n",
        "* **id2word** is a mapping from word ids (integers) to words (strings). It is used to determine the vocabulary size, as well as for debugging and topic printing.\n",
        "* **workers** is the number of extra processes to use for parallelization. Uses all available cores by default.\n",
        "* **alpha** and **eta** are hyperparameters that affect sparsity of the document-topic (theta) and topic-word (lambda) distributions. We will let these be the default values for now(default value is `1/num_topics`)\n",
        "    - Alpha is the per document topic distribution.\n",
        "        * High alpha: Every document has a mixture of all topics(documents appear similar to each other).\n",
        "        * Low alpha: Every document has a mixture of very few topics\n",
        "\n",
        "    - Eta is the per topic word distribution.\n",
        "        * High eta: Each topic has a mixture of most words(topics appear similar to each other).\n",
        "        * Low eta: Each topic has a mixture of few words.\n",
        "\n",
        "* ** passes ** is the number of training passes through the corpus. For  example, if the training corpus has 50,000 documents, chunksize is  10,000, passes is 2, then online training is done in 10 updates: \n",
        "    * `#1 documents 0-9,999 `\n",
        "    * `#2 documents 10,000-19,999 `\n",
        "    * `#3 documents 20,000-29,999 `\n",
        "    * `#4 documents 30,000-39,999 `\n",
        "    * `#5 documents 40,000-49,999 `\n",
        "    * `#6 documents 0-9,999 `\n",
        "    * `#7 documents 10,000-19,999 `\n",
        "    * `#8 documents 20,000-29,999 `\n",
        "    * `#9 documents 30,000-39,999 `\n",
        "    * `#10 documents 40,000-49,999` "
      ]
    },
    {
      "cell_type": "code",
      "metadata": {
        "id": "ZZANOMdCzvxC",
        "colab_type": "code",
        "colab": {}
      },
      "source": [
        "# LDA mono-core -- fallback code in case LdaMulticore throws an error on your machine\n",
        "# lda_model = gensim.models.LdaModel(bow_corpus, \n",
        "#                                    num_topics = 10, \n",
        "#                                    id2word = dictionary,                                    \n",
        "#                                    passes = 50)\n",
        "\n",
        "# LDA multicore \n",
        "'''\n",
        "Train your lda model using gensim.models.LdaMulticore and save it to 'lda_model'\n",
        "'''\n",
        "# TODO\n",
        "lda_model = gensim.models.LdaMulticore(bow_corpus,\n",
        "                                      num_topics = 10,\n",
        "                                      id2word = dictionary,\n",
        "                                      passes = 2)"
      ],
      "execution_count": 0,
      "outputs": []
    },
    {
      "cell_type": "code",
      "metadata": {
        "id": "rd3u2gZqzvxH",
        "colab_type": "code",
        "colab": {
          "base_uri": "https://localhost:8080/",
          "height": 741
        },
        "outputId": "1c4adfa2-53f5-40ed-b2ce-239d9d9c0ebc"
      },
      "source": [
        "'''\n",
        "For each topic, we will explore the words occuring in that topic and its relative weight\n",
        "'''\n",
        "for idx, topic in lda_model.print_topics(-1):\n",
        "    print(\"Topic: {} \\nWords: {}\".format(topic, idx ))\n",
        "    print(\"\\n\")"
      ],
      "execution_count": 46,
      "outputs": [
        {
          "output_type": "stream",
          "text": [
            "Topic: 0.025*\"closer\" + 0.022*\"lead\" + 0.020*\"test\" + 0.016*\"take\" + 0.014*\"south\" + 0.012*\"author\" + 0.012*\"inquiri\" + 0.012*\"law\" + 0.012*\"crew\" + 0.011*\"bushfir\" \n",
            "Words: 0\n",
            "\n",
            "\n",
            "Topic: 0.058*\"polic\" + 0.024*\"miss\" + 0.024*\"seek\" + 0.017*\"search\" + 0.015*\"arrest\" + 0.014*\"help\" + 0.013*\"region\" + 0.012*\"train\" + 0.011*\"urg\" + 0.011*\"offic\" \n",
            "Words: 1\n",
            "\n",
            "\n",
            "Topic: 0.025*\"aust\" + 0.021*\"drought\" + 0.019*\"australia\" + 0.017*\"record\" + 0.016*\"break\" + 0.015*\"troop\" + 0.015*\"look\" + 0.014*\"rain\" + 0.013*\"farmer\" + 0.013*\"price\" \n",
            "Words: 2\n",
            "\n",
            "\n",
            "Topic: 0.059*\"water\" + 0.033*\"warn\" + 0.018*\"worker\" + 0.017*\"rise\" + 0.015*\"driver\" + 0.015*\"industri\" + 0.014*\"continu\" + 0.013*\"rudd\" + 0.012*\"busi\" + 0.011*\"union\" \n",
            "Words: 3\n",
            "\n",
            "\n",
            "Topic: 0.019*\"push\" + 0.017*\"elect\" + 0.016*\"labor\" + 0.015*\"howard\" + 0.014*\"high\" + 0.013*\"market\" + 0.013*\"say\" + 0.012*\"concern\" + 0.012*\"reject\" + 0.012*\"chief\" \n",
            "Words: 4\n",
            "\n",
            "\n",
            "Topic: 0.033*\"charg\" + 0.031*\"crash\" + 0.029*\"kill\" + 0.029*\"polic\" + 0.028*\"court\" + 0.027*\"face\" + 0.020*\"attack\" + 0.018*\"investig\" + 0.017*\"murder\" + 0.015*\"accus\" \n",
            "Words: 5\n",
            "\n",
            "\n",
            "Topic: 0.032*\"group\" + 0.018*\"blaze\" + 0.017*\"return\" + 0.016*\"work\" + 0.014*\"question\" + 0.013*\"firefight\" + 0.013*\"green\" + 0.013*\"aussi\" + 0.012*\"futur\" + 0.012*\"target\" \n",
            "Words: 6\n",
            "\n",
            "\n",
            "Topic: 0.028*\"jail\" + 0.023*\"road\" + 0.021*\"year\" + 0.020*\"open\" + 0.017*\"coast\" + 0.017*\"centr\" + 0.015*\"death\" + 0.013*\"storm\" + 0.013*\"releas\" + 0.013*\"prompt\" \n",
            "Words: 7\n",
            "\n",
            "\n",
            "Topic: 0.070*\"govt\" + 0.039*\"council\" + 0.031*\"plan\" + 0.024*\"urg\" + 0.022*\"fund\" + 0.015*\"boost\" + 0.014*\"defend\" + 0.014*\"back\" + 0.014*\"consid\" + 0.012*\"health\" \n",
            "Words: 8\n",
            "\n",
            "\n",
            "Topic: 0.025*\"power\" + 0.018*\"win\" + 0.017*\"nuclear\" + 0.017*\"hick\" + 0.016*\"minist\" + 0.015*\"final\" + 0.014*\"safeti\" + 0.014*\"wont\" + 0.013*\"compani\" + 0.012*\"say\" \n",
            "Words: 9\n",
            "\n",
            "\n"
          ],
          "name": "stdout"
        }
      ]
    },
    {
      "cell_type": "markdown",
      "metadata": {
        "id": "tRJRHajGzvxL",
        "colab_type": "text"
      },
      "source": [
        "### Classification of the topics ###\n",
        "\n",
        "Using the words in each topic and their corresponding weights, what categories were you able to infer?\n",
        "\n",
        "* 0: \n",
        "* 1: \n",
        "* 2: \n",
        "* 3: \n",
        "* 4: \n",
        "* 5: \n",
        "* 6: \n",
        "* 7:  \n",
        "* 8: \n",
        "* 9: "
      ]
    },
    {
      "cell_type": "markdown",
      "metadata": {
        "id": "7gn4_eEFzvxM",
        "colab_type": "text"
      },
      "source": [
        "## Step 4.2 Running LDA using TF-IDF ##"
      ]
    },
    {
      "cell_type": "code",
      "metadata": {
        "id": "9hrzztU-zvxN",
        "colab_type": "code",
        "colab": {}
      },
      "source": [
        "'''\n",
        "Define lda model using corpus_tfidf, again using gensim.models.LdaMulticore()\n",
        "'''\n",
        "# TODO\n",
        "lda_model_tfidf = gensim.models.LdaMulticore(corpus_tfidf,\n",
        "                                      num_topics = 10,\n",
        "                                      id2word = dictionary,\n",
        "                                      passes = 2)"
      ],
      "execution_count": 0,
      "outputs": []
    },
    {
      "cell_type": "code",
      "metadata": {
        "id": "kEcun_iEzvxS",
        "colab_type": "code",
        "colab": {
          "base_uri": "https://localhost:8080/",
          "height": 565
        },
        "outputId": "bf0da2dc-d503-4e5c-cbcd-acfcc08579bb"
      },
      "source": [
        "'''\n",
        "For each topic, we will explore the words occuring in that topic and its relative weight\n",
        "'''\n",
        "for idx, topic in lda_model_tfidf.print_topics(-1):\n",
        "    print(\"Topic: {} Word: {}\".format(idx, topic))\n",
        "    print(\"\\n\")"
      ],
      "execution_count": 48,
      "outputs": [
        {
          "output_type": "stream",
          "text": [
            "Topic: 0 Word: 0.016*\"assault\" + 0.012*\"kill\" + 0.011*\"sentenc\" + 0.010*\"rise\" + 0.010*\"rate\" + 0.008*\"baghdad\" + 0.008*\"blue\" + 0.008*\"black\" + 0.008*\"lake\" + 0.008*\"hill\"\n",
            "\n",
            "\n",
            "Topic: 1 Word: 0.018*\"govt\" + 0.013*\"fund\" + 0.010*\"urg\" + 0.009*\"council\" + 0.009*\"health\" + 0.009*\"plan\" + 0.008*\"region\" + 0.008*\"water\" + 0.008*\"howard\" + 0.007*\"feder\"\n",
            "\n",
            "\n",
            "Topic: 2 Word: 0.022*\"water\" + 0.012*\"rudd\" + 0.010*\"nuclear\" + 0.010*\"timor\" + 0.009*\"plan\" + 0.009*\"govt\" + 0.008*\"climat\" + 0.008*\"murray\" + 0.008*\"liber\" + 0.007*\"council\"\n",
            "\n",
            "\n",
            "Topic: 3 Word: 0.042*\"closer\" + 0.014*\"hick\" + 0.009*\"market\" + 0.009*\"push\" + 0.008*\"mine\" + 0.008*\"develop\" + 0.007*\"price\" + 0.007*\"worri\" + 0.007*\"compani\" + 0.007*\"share\"\n",
            "\n",
            "\n",
            "Topic: 4 Word: 0.023*\"crash\" + 0.019*\"miss\" + 0.016*\"polic\" + 0.016*\"search\" + 0.015*\"die\" + 0.012*\"driver\" + 0.010*\"fatal\" + 0.010*\"road\" + 0.010*\"crew\" + 0.009*\"bodi\"\n",
            "\n",
            "\n",
            "Topic: 5 Word: 0.025*\"charg\" + 0.020*\"court\" + 0.018*\"polic\" + 0.017*\"murder\" + 0.014*\"jail\" + 0.014*\"arrest\" + 0.013*\"face\" + 0.012*\"drug\" + 0.010*\"accus\" + 0.010*\"stab\"\n",
            "\n",
            "\n",
            "Topic: 6 Word: 0.011*\"england\" + 0.009*\"bushfir\" + 0.008*\"confid\" + 0.007*\"victori\" + 0.007*\"open\" + 0.006*\"world\" + 0.006*\"retir\" + 0.006*\"quit\" + 0.006*\"final\" + 0.006*\"season\"\n",
            "\n",
            "\n",
            "Topic: 7 Word: 0.011*\"troop\" + 0.010*\"solomon\" + 0.010*\"qanta\" + 0.008*\"job\" + 0.007*\"alic\" + 0.007*\"pressur\" + 0.007*\"steal\" + 0.007*\"sale\" + 0.007*\"cut\" + 0.007*\"build\"\n",
            "\n",
            "\n",
            "Topic: 8 Word: 0.013*\"blaze\" + 0.012*\"firefight\" + 0.011*\"storm\" + 0.010*\"cyclon\" + 0.010*\"damag\" + 0.009*\"fire\" + 0.009*\"farm\" + 0.008*\"grower\" + 0.008*\"wind\" + 0.008*\"west\"\n",
            "\n",
            "\n",
            "Topic: 9 Word: 0.011*\"melbourn\" + 0.010*\"plane\" + 0.009*\"iemma\" + 0.009*\"caus\" + 0.009*\"emerg\" + 0.008*\"level\" + 0.008*\"plead\" + 0.008*\"poll\" + 0.007*\"crash\" + 0.007*\"easter\"\n",
            "\n",
            "\n"
          ],
          "name": "stdout"
        }
      ]
    },
    {
      "cell_type": "markdown",
      "metadata": {
        "id": "tS1xbH-bzvxY",
        "colab_type": "text"
      },
      "source": [
        "### Classification of the topics ###\n",
        "\n",
        "As we can see, when using tf-idf, heavier weights are given to words that are not as frequent which results in nouns being factored in. That makes it harder to figure out the categories as nouns can be hard to categorize. This goes to show that the models we apply depend on the type of corpus of text we are dealing with. \n",
        "\n",
        "Using the words in each topic and their corresponding weights, what categories could you find?\n",
        "\n",
        "* 0: \n",
        "* 1:  \n",
        "* 2: \n",
        "* 3: \n",
        "* 4:  \n",
        "* 5: \n",
        "* 6: \n",
        "* 7: \n",
        "* 8: \n",
        "* 9: "
      ]
    },
    {
      "cell_type": "markdown",
      "metadata": {
        "id": "yEpRaZHWzvxb",
        "colab_type": "text"
      },
      "source": [
        "## Step 5.1: Performance evaluation by classifying sample document using LDA Bag of Words model##\n",
        "\n",
        "We will check to see where our test document would be classified. "
      ]
    },
    {
      "cell_type": "code",
      "metadata": {
        "id": "Yyq93jSlzvxc",
        "colab_type": "code",
        "colab": {
          "base_uri": "https://localhost:8080/",
          "height": 34
        },
        "outputId": "9666687d-ad87-4a08-9754-29f705373bb4"
      },
      "source": [
        "'''\n",
        "Text of sample document 4310\n",
        "'''\n",
        "processed_docs[4310]"
      ],
      "execution_count": 49,
      "outputs": [
        {
          "output_type": "execute_result",
          "data": {
            "text/plain": [
              "['rain', 'help', 'dampen', 'bushfir']"
            ]
          },
          "metadata": {
            "tags": []
          },
          "execution_count": 49
        }
      ]
    },
    {
      "cell_type": "code",
      "metadata": {
        "id": "OPKbaSUgzvxk",
        "colab_type": "code",
        "colab": {
          "base_uri": "https://localhost:8080/",
          "height": 565
        },
        "outputId": "e93578e8-eea3-4c4d-b161-4d32fdc711b3"
      },
      "source": [
        "'''\n",
        "Check which topic our test document belongs to using the LDA Bag of Words model.\n",
        "'''\n",
        "document_num = 4310\n",
        "# Our test document is document number 4310\n",
        "\n",
        "# TODO\n",
        "# Our test document is document number 4310\n",
        "for index, score in sorted(lda_model[bow_corpus[document_num]], key=lambda tup: -1*tup[1]):\n",
        "    print(\"\\nScore: {}\\t \\nTopic: {}\".format(score, lda_model.print_topic(index, 10)))"
      ],
      "execution_count": 50,
      "outputs": [
        {
          "output_type": "stream",
          "text": [
            "\n",
            "Score: 0.6199912428855896\t \n",
            "Topic: 0.025*\"aust\" + 0.021*\"drought\" + 0.019*\"australia\" + 0.017*\"record\" + 0.016*\"break\" + 0.015*\"troop\" + 0.015*\"look\" + 0.014*\"rain\" + 0.013*\"farmer\" + 0.013*\"price\"\n",
            "\n",
            "Score: 0.2199999988079071\t \n",
            "Topic: 0.025*\"closer\" + 0.022*\"lead\" + 0.020*\"test\" + 0.016*\"take\" + 0.014*\"south\" + 0.012*\"author\" + 0.012*\"inquiri\" + 0.012*\"law\" + 0.012*\"crew\" + 0.011*\"bushfir\"\n",
            "\n",
            "Score: 0.020006448030471802\t \n",
            "Topic: 0.058*\"polic\" + 0.024*\"miss\" + 0.024*\"seek\" + 0.017*\"search\" + 0.015*\"arrest\" + 0.014*\"help\" + 0.013*\"region\" + 0.012*\"train\" + 0.011*\"urg\" + 0.011*\"offic\"\n",
            "\n",
            "Score: 0.020002197474241257\t \n",
            "Topic: 0.070*\"govt\" + 0.039*\"council\" + 0.031*\"plan\" + 0.024*\"urg\" + 0.022*\"fund\" + 0.015*\"boost\" + 0.014*\"defend\" + 0.014*\"back\" + 0.014*\"consid\" + 0.012*\"health\"\n",
            "\n",
            "Score: 0.02000005543231964\t \n",
            "Topic: 0.059*\"water\" + 0.033*\"warn\" + 0.018*\"worker\" + 0.017*\"rise\" + 0.015*\"driver\" + 0.015*\"industri\" + 0.014*\"continu\" + 0.013*\"rudd\" + 0.012*\"busi\" + 0.011*\"union\"\n",
            "\n",
            "Score: 0.019999999552965164\t \n",
            "Topic: 0.019*\"push\" + 0.017*\"elect\" + 0.016*\"labor\" + 0.015*\"howard\" + 0.014*\"high\" + 0.013*\"market\" + 0.013*\"say\" + 0.012*\"concern\" + 0.012*\"reject\" + 0.012*\"chief\"\n",
            "\n",
            "Score: 0.019999999552965164\t \n",
            "Topic: 0.033*\"charg\" + 0.031*\"crash\" + 0.029*\"kill\" + 0.029*\"polic\" + 0.028*\"court\" + 0.027*\"face\" + 0.020*\"attack\" + 0.018*\"investig\" + 0.017*\"murder\" + 0.015*\"accus\"\n",
            "\n",
            "Score: 0.019999999552965164\t \n",
            "Topic: 0.032*\"group\" + 0.018*\"blaze\" + 0.017*\"return\" + 0.016*\"work\" + 0.014*\"question\" + 0.013*\"firefight\" + 0.013*\"green\" + 0.013*\"aussi\" + 0.012*\"futur\" + 0.012*\"target\"\n",
            "\n",
            "Score: 0.019999999552965164\t \n",
            "Topic: 0.028*\"jail\" + 0.023*\"road\" + 0.021*\"year\" + 0.020*\"open\" + 0.017*\"coast\" + 0.017*\"centr\" + 0.015*\"death\" + 0.013*\"storm\" + 0.013*\"releas\" + 0.013*\"prompt\"\n",
            "\n",
            "Score: 0.019999999552965164\t \n",
            "Topic: 0.025*\"power\" + 0.018*\"win\" + 0.017*\"nuclear\" + 0.017*\"hick\" + 0.016*\"minist\" + 0.015*\"final\" + 0.014*\"safeti\" + 0.014*\"wont\" + 0.013*\"compani\" + 0.012*\"say\"\n"
          ],
          "name": "stdout"
        }
      ]
    },
    {
      "cell_type": "markdown",
      "metadata": {
        "id": "TCdPbM2Kzvxo",
        "colab_type": "text"
      },
      "source": [
        "### It has the highest probability (`x`) to be  part of the topic that we assigned as X, which is the accurate classification. ###"
      ]
    },
    {
      "cell_type": "markdown",
      "metadata": {
        "id": "JfoyQiHfzvxq",
        "colab_type": "text"
      },
      "source": [
        "## Step 5.2: Performance evaluation by classifying sample document using LDA TF-IDF model##"
      ]
    },
    {
      "cell_type": "code",
      "metadata": {
        "id": "X3eZCi_rzvxs",
        "colab_type": "code",
        "colab": {
          "base_uri": "https://localhost:8080/",
          "height": 565
        },
        "outputId": "b33352f7-3c0b-40c0-9b2e-93349f675e13"
      },
      "source": [
        "'''\n",
        "Check which topic our test document belongs to using the LDA TF-IDF model.\n",
        "'''\n",
        "# Our test document is document number 4310\n",
        "for index, score in sorted(lda_model_tfidf[bow_corpus[document_num]], key=lambda tup: -1*tup[1]):\n",
        "    print(\"\\nScore: {}\\t \\nTopic: {}\".format(score, lda_model_tfidf.print_topic(index, 10)))"
      ],
      "execution_count": 51,
      "outputs": [
        {
          "output_type": "stream",
          "text": [
            "\n",
            "Score: 0.5561811923980713\t \n",
            "Topic: 0.011*\"england\" + 0.009*\"bushfir\" + 0.008*\"confid\" + 0.007*\"victori\" + 0.007*\"open\" + 0.006*\"world\" + 0.006*\"retir\" + 0.006*\"quit\" + 0.006*\"final\" + 0.006*\"season\"\n",
            "\n",
            "Score: 0.28379562497138977\t \n",
            "Topic: 0.013*\"blaze\" + 0.012*\"firefight\" + 0.011*\"storm\" + 0.010*\"cyclon\" + 0.010*\"damag\" + 0.009*\"fire\" + 0.009*\"farm\" + 0.008*\"grower\" + 0.008*\"wind\" + 0.008*\"west\"\n",
            "\n",
            "Score: 0.020006034523248672\t \n",
            "Topic: 0.018*\"govt\" + 0.013*\"fund\" + 0.010*\"urg\" + 0.009*\"council\" + 0.009*\"health\" + 0.009*\"plan\" + 0.008*\"region\" + 0.008*\"water\" + 0.008*\"howard\" + 0.007*\"feder\"\n",
            "\n",
            "Score: 0.020004209131002426\t \n",
            "Topic: 0.011*\"melbourn\" + 0.010*\"plane\" + 0.009*\"iemma\" + 0.009*\"caus\" + 0.009*\"emerg\" + 0.008*\"level\" + 0.008*\"plead\" + 0.008*\"poll\" + 0.007*\"crash\" + 0.007*\"easter\"\n",
            "\n",
            "Score: 0.020003769546747208\t \n",
            "Topic: 0.022*\"water\" + 0.012*\"rudd\" + 0.010*\"nuclear\" + 0.010*\"timor\" + 0.009*\"plan\" + 0.009*\"govt\" + 0.008*\"climat\" + 0.008*\"murray\" + 0.008*\"liber\" + 0.007*\"council\"\n",
            "\n",
            "Score: 0.020003382116556168\t \n",
            "Topic: 0.023*\"crash\" + 0.019*\"miss\" + 0.016*\"polic\" + 0.016*\"search\" + 0.015*\"die\" + 0.012*\"driver\" + 0.010*\"fatal\" + 0.010*\"road\" + 0.010*\"crew\" + 0.009*\"bodi\"\n",
            "\n",
            "Score: 0.020002571865916252\t \n",
            "Topic: 0.016*\"assault\" + 0.012*\"kill\" + 0.011*\"sentenc\" + 0.010*\"rise\" + 0.010*\"rate\" + 0.008*\"baghdad\" + 0.008*\"blue\" + 0.008*\"black\" + 0.008*\"lake\" + 0.008*\"hill\"\n",
            "\n",
            "Score: 0.020001232624053955\t \n",
            "Topic: 0.025*\"charg\" + 0.020*\"court\" + 0.018*\"polic\" + 0.017*\"murder\" + 0.014*\"jail\" + 0.014*\"arrest\" + 0.013*\"face\" + 0.012*\"drug\" + 0.010*\"accus\" + 0.010*\"stab\"\n",
            "\n",
            "Score: 0.020001059398055077\t \n",
            "Topic: 0.011*\"troop\" + 0.010*\"solomon\" + 0.010*\"qanta\" + 0.008*\"job\" + 0.007*\"alic\" + 0.007*\"pressur\" + 0.007*\"steal\" + 0.007*\"sale\" + 0.007*\"cut\" + 0.007*\"build\"\n",
            "\n",
            "Score: 0.020000919699668884\t \n",
            "Topic: 0.042*\"closer\" + 0.014*\"hick\" + 0.009*\"market\" + 0.009*\"push\" + 0.008*\"mine\" + 0.008*\"develop\" + 0.007*\"price\" + 0.007*\"worri\" + 0.007*\"compani\" + 0.007*\"share\"\n"
          ],
          "name": "stdout"
        }
      ]
    },
    {
      "cell_type": "markdown",
      "metadata": {
        "id": "WKFTkt1Wzvxx",
        "colab_type": "text"
      },
      "source": [
        "### It has the highest probability (`x%`) to be  part of the topic that we assigned as X. ###"
      ]
    },
    {
      "cell_type": "markdown",
      "metadata": {
        "id": "FicktEwxzvxy",
        "colab_type": "text"
      },
      "source": [
        "## Step 6: Testing model on unseen document ##"
      ]
    },
    {
      "cell_type": "code",
      "metadata": {
        "id": "fzj5oTvjzvx0",
        "colab_type": "code",
        "colab": {
          "base_uri": "https://localhost:8080/",
          "height": 213
        },
        "outputId": "17158828-817b-4b11-cfdf-db0feee8e57b"
      },
      "source": [
        "unseen_document = \"My favorite sports activities are running and swimming.\"\n",
        "\n",
        "# Data preprocessing step for the unseen document\n",
        "bow_vector = dictionary.doc2bow(preprocess(unseen_document))\n",
        "\n",
        "for index, score in sorted(lda_model[bow_vector], key=lambda tup: -1*tup[1]):\n",
        "    print(\"Score: {}\\t Topic: {}\".format(score, lda_model.print_topic(index, 5)))"
      ],
      "execution_count": 52,
      "outputs": [
        {
          "output_type": "stream",
          "text": [
            "Score: 0.4200001060962677\t Topic: 0.025*\"power\" + 0.018*\"win\" + 0.017*\"nuclear\" + 0.017*\"hick\" + 0.016*\"minist\"\n",
            "Score: 0.2200000286102295\t Topic: 0.025*\"closer\" + 0.022*\"lead\" + 0.020*\"test\" + 0.016*\"take\" + 0.014*\"south\"\n",
            "Score: 0.21999986469745636\t Topic: 0.059*\"water\" + 0.033*\"warn\" + 0.018*\"worker\" + 0.017*\"rise\" + 0.015*\"driver\"\n",
            "Score: 0.020000001415610313\t Topic: 0.058*\"polic\" + 0.024*\"miss\" + 0.024*\"seek\" + 0.017*\"search\" + 0.015*\"arrest\"\n",
            "Score: 0.020000001415610313\t Topic: 0.025*\"aust\" + 0.021*\"drought\" + 0.019*\"australia\" + 0.017*\"record\" + 0.016*\"break\"\n",
            "Score: 0.020000001415610313\t Topic: 0.019*\"push\" + 0.017*\"elect\" + 0.016*\"labor\" + 0.015*\"howard\" + 0.014*\"high\"\n",
            "Score: 0.020000001415610313\t Topic: 0.033*\"charg\" + 0.031*\"crash\" + 0.029*\"kill\" + 0.029*\"polic\" + 0.028*\"court\"\n",
            "Score: 0.020000001415610313\t Topic: 0.032*\"group\" + 0.018*\"blaze\" + 0.017*\"return\" + 0.016*\"work\" + 0.014*\"question\"\n",
            "Score: 0.020000001415610313\t Topic: 0.028*\"jail\" + 0.023*\"road\" + 0.021*\"year\" + 0.020*\"open\" + 0.017*\"coast\"\n",
            "Score: 0.020000001415610313\t Topic: 0.070*\"govt\" + 0.039*\"council\" + 0.031*\"plan\" + 0.024*\"urg\" + 0.022*\"fund\"\n"
          ],
          "name": "stdout"
        }
      ]
    },
    {
      "cell_type": "markdown",
      "metadata": {
        "id": "Nk90G2Oyzvx6",
        "colab_type": "text"
      },
      "source": [
        "The model correctly classifies the unseen document with 'x'% probability to the X category.\n",
        "\n",
        "\n",
        "\n",
        "\n",
        "\n"
      ]
    }
  ]
}