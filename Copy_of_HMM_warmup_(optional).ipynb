{
  "nbformat": 4,
  "nbformat_minor": 0,
  "metadata": {
    "colab": {
      "name": "Copy of HMM warmup (optional).ipynb",
      "version": "0.3.2",
      "provenance": [],
      "toc_visible": true,
      "include_colab_link": true
    },
    "language_info": {
      "codemirror_mode": {
        "name": "ipython",
        "version": 3
      },
      "file_extension": ".py",
      "mimetype": "text/x-python",
      "name": "python",
      "nbconvert_exporter": "python",
      "pygments_lexer": "ipython3",
      "version": "3.6.3"
    },
    "kernelspec": {
      "name": "python3",
      "display_name": "Python 3"
    },
    "accelerator": "GPU"
  },
  "cells": [
    {
      "cell_type": "markdown",
      "metadata": {
        "id": "view-in-github",
        "colab_type": "text"
      },
      "source": [
        "<a href=\"https://colab.research.google.com/github/helloalexian/Machine-Learning/blob/master/Copy_of_HMM_warmup_(optional).ipynb\" target=\"_parent\"><img src=\"https://colab.research.google.com/assets/colab-badge.svg\" alt=\"Open In Colab\"/></a>"
      ]
    },
    {
      "cell_type": "markdown",
      "metadata": {
        "id": "dFwZgnj2kUy3",
        "colab_type": "text"
      },
      "source": [
        "# Intro to Hidden Markov Models (optional)\n",
        "---\n",
        "### Introduction\n",
        "\n",
        "In this notebook, you'll use the [Pomegranate](http://pomegranate.readthedocs.io/en/latest/index.html) library to build a simple Hidden Markov Model and explore the Pomegranate API.\n",
        "\n",
        "<div class=\"alert alert-block alert-info\">\n",
        "**Note:** You are not required to complete this notebook and it will not be submitted with your project, but it is designed to quickly introduce the relevant parts of the Pomegranate library that you will need to complete the part of speech tagger.\n",
        "</div>\n",
        "\n",
        "The notebook already contains some code to get you started. You only need to add some new functionality in the areas indicated; you will not need to modify the included code beyond what is requested. Sections that begin with **'IMPLEMENTATION'** in the header indicate that you need to fill in code in the block that follows. Instructions will be provided for each section, and the specifics of the implementation are marked in the code block with a 'TODO' statement. Please be sure to read the instructions carefully!\n",
        "\n",
        "<div class=\"alert alert-block alert-info\">\n",
        "**Note:** Code and Markdown cells can be executed using the `Shift + Enter` keyboard shortcut. Markdown cells can be edited by double-clicking the cell to enter edit mode.\n",
        "</div>\n",
        "<hr>"
      ]
    },
    {
      "cell_type": "markdown",
      "metadata": {
        "id": "wxkBHxGNkUy7",
        "colab_type": "text"
      },
      "source": [
        "<div class=\"alert alert-block alert-warning\">\n",
        "**Note:** Make sure you have selected a **Python 3** kernel in Workspaces or the hmm-tagger conda environment if you are running the Jupyter server on your own machine.\n",
        "</div>"
      ]
    },
    {
      "cell_type": "code",
      "metadata": {
        "id": "HirBUIgNkUy9",
        "colab_type": "code",
        "outputId": "5f67a63e-d958-4c90-dc86-6db0f5146c16",
        "colab": {
          "base_uri": "https://localhost:8080/",
          "height": 505
        }
      },
      "source": [
        "# Jupyter \"magic methods\" -- only need to be run once per kernel restart\n",
        "%load_ext autoreload\n",
        "%aimport helpers\n",
        "%autoreload 1"
      ],
      "execution_count": 0,
      "outputs": [
        {
          "output_type": "error",
          "ename": "ModuleNotFoundError",
          "evalue": "ignored",
          "traceback": [
            "\u001b[0;31m---------------------------------------------------------------------------\u001b[0m",
            "\u001b[0;31mModuleNotFoundError\u001b[0m                       Traceback (most recent call last)",
            "\u001b[0;32m<ipython-input-1-dad00e0d8917>\u001b[0m in \u001b[0;36m<module>\u001b[0;34m()\u001b[0m\n\u001b[1;32m      1\u001b[0m \u001b[0mget_ipython\u001b[0m\u001b[0;34m(\u001b[0m\u001b[0;34m)\u001b[0m\u001b[0;34m.\u001b[0m\u001b[0mmagic\u001b[0m\u001b[0;34m(\u001b[0m\u001b[0;34m'load_ext autoreload'\u001b[0m\u001b[0;34m)\u001b[0m\u001b[0;34m\u001b[0m\u001b[0;34m\u001b[0m\u001b[0m\n\u001b[0;32m----> 2\u001b[0;31m \u001b[0mget_ipython\u001b[0m\u001b[0;34m(\u001b[0m\u001b[0;34m)\u001b[0m\u001b[0;34m.\u001b[0m\u001b[0mmagic\u001b[0m\u001b[0;34m(\u001b[0m\u001b[0;34m'aimport helpers'\u001b[0m\u001b[0;34m)\u001b[0m\u001b[0;34m\u001b[0m\u001b[0;34m\u001b[0m\u001b[0m\n\u001b[0m\u001b[1;32m      3\u001b[0m \u001b[0mget_ipython\u001b[0m\u001b[0;34m(\u001b[0m\u001b[0;34m)\u001b[0m\u001b[0;34m.\u001b[0m\u001b[0mmagic\u001b[0m\u001b[0;34m(\u001b[0m\u001b[0;34m'autoreload 1'\u001b[0m\u001b[0;34m)\u001b[0m\u001b[0;34m\u001b[0m\u001b[0;34m\u001b[0m\u001b[0m\n",
            "\u001b[0;32m/usr/local/lib/python3.6/dist-packages/IPython/core/interactiveshell.py\u001b[0m in \u001b[0;36mmagic\u001b[0;34m(self, arg_s)\u001b[0m\n\u001b[1;32m   2158\u001b[0m         \u001b[0mmagic_name\u001b[0m\u001b[0;34m,\u001b[0m \u001b[0m_\u001b[0m\u001b[0;34m,\u001b[0m \u001b[0mmagic_arg_s\u001b[0m \u001b[0;34m=\u001b[0m \u001b[0marg_s\u001b[0m\u001b[0;34m.\u001b[0m\u001b[0mpartition\u001b[0m\u001b[0;34m(\u001b[0m\u001b[0;34m' '\u001b[0m\u001b[0;34m)\u001b[0m\u001b[0;34m\u001b[0m\u001b[0;34m\u001b[0m\u001b[0m\n\u001b[1;32m   2159\u001b[0m         \u001b[0mmagic_name\u001b[0m \u001b[0;34m=\u001b[0m \u001b[0mmagic_name\u001b[0m\u001b[0;34m.\u001b[0m\u001b[0mlstrip\u001b[0m\u001b[0;34m(\u001b[0m\u001b[0mprefilter\u001b[0m\u001b[0;34m.\u001b[0m\u001b[0mESC_MAGIC\u001b[0m\u001b[0;34m)\u001b[0m\u001b[0;34m\u001b[0m\u001b[0;34m\u001b[0m\u001b[0m\n\u001b[0;32m-> 2160\u001b[0;31m         \u001b[0;32mreturn\u001b[0m \u001b[0mself\u001b[0m\u001b[0;34m.\u001b[0m\u001b[0mrun_line_magic\u001b[0m\u001b[0;34m(\u001b[0m\u001b[0mmagic_name\u001b[0m\u001b[0;34m,\u001b[0m \u001b[0mmagic_arg_s\u001b[0m\u001b[0;34m)\u001b[0m\u001b[0;34m\u001b[0m\u001b[0;34m\u001b[0m\u001b[0m\n\u001b[0m\u001b[1;32m   2161\u001b[0m \u001b[0;34m\u001b[0m\u001b[0m\n\u001b[1;32m   2162\u001b[0m     \u001b[0;31m#-------------------------------------------------------------------------\u001b[0m\u001b[0;34m\u001b[0m\u001b[0;34m\u001b[0m\u001b[0;34m\u001b[0m\u001b[0m\n",
            "\u001b[0;32m/usr/local/lib/python3.6/dist-packages/IPython/core/interactiveshell.py\u001b[0m in \u001b[0;36mrun_line_magic\u001b[0;34m(self, magic_name, line)\u001b[0m\n\u001b[1;32m   2079\u001b[0m                 \u001b[0mkwargs\u001b[0m\u001b[0;34m[\u001b[0m\u001b[0;34m'local_ns'\u001b[0m\u001b[0;34m]\u001b[0m \u001b[0;34m=\u001b[0m \u001b[0msys\u001b[0m\u001b[0;34m.\u001b[0m\u001b[0m_getframe\u001b[0m\u001b[0;34m(\u001b[0m\u001b[0mstack_depth\u001b[0m\u001b[0;34m)\u001b[0m\u001b[0;34m.\u001b[0m\u001b[0mf_locals\u001b[0m\u001b[0;34m\u001b[0m\u001b[0;34m\u001b[0m\u001b[0m\n\u001b[1;32m   2080\u001b[0m             \u001b[0;32mwith\u001b[0m \u001b[0mself\u001b[0m\u001b[0;34m.\u001b[0m\u001b[0mbuiltin_trap\u001b[0m\u001b[0;34m:\u001b[0m\u001b[0;34m\u001b[0m\u001b[0;34m\u001b[0m\u001b[0m\n\u001b[0;32m-> 2081\u001b[0;31m                 \u001b[0mresult\u001b[0m \u001b[0;34m=\u001b[0m \u001b[0mfn\u001b[0m\u001b[0;34m(\u001b[0m\u001b[0;34m*\u001b[0m\u001b[0margs\u001b[0m\u001b[0;34m,\u001b[0m\u001b[0;34m**\u001b[0m\u001b[0mkwargs\u001b[0m\u001b[0;34m)\u001b[0m\u001b[0;34m\u001b[0m\u001b[0;34m\u001b[0m\u001b[0m\n\u001b[0m\u001b[1;32m   2082\u001b[0m             \u001b[0;32mreturn\u001b[0m \u001b[0mresult\u001b[0m\u001b[0;34m\u001b[0m\u001b[0;34m\u001b[0m\u001b[0m\n\u001b[1;32m   2083\u001b[0m \u001b[0;34m\u001b[0m\u001b[0m\n",
            "\u001b[0;32m</usr/local/lib/python3.6/dist-packages/decorator.py:decorator-gen-124>\u001b[0m in \u001b[0;36maimport\u001b[0;34m(self, parameter_s, stream)\u001b[0m\n",
            "\u001b[0;32m/usr/local/lib/python3.6/dist-packages/IPython/core/magic.py\u001b[0m in \u001b[0;36m<lambda>\u001b[0;34m(f, *a, **k)\u001b[0m\n\u001b[1;32m    186\u001b[0m     \u001b[0;31m# but it's overkill for just that one bit of state.\u001b[0m\u001b[0;34m\u001b[0m\u001b[0;34m\u001b[0m\u001b[0;34m\u001b[0m\u001b[0m\n\u001b[1;32m    187\u001b[0m     \u001b[0;32mdef\u001b[0m \u001b[0mmagic_deco\u001b[0m\u001b[0;34m(\u001b[0m\u001b[0marg\u001b[0m\u001b[0;34m)\u001b[0m\u001b[0;34m:\u001b[0m\u001b[0;34m\u001b[0m\u001b[0;34m\u001b[0m\u001b[0m\n\u001b[0;32m--> 188\u001b[0;31m         \u001b[0mcall\u001b[0m \u001b[0;34m=\u001b[0m \u001b[0;32mlambda\u001b[0m \u001b[0mf\u001b[0m\u001b[0;34m,\u001b[0m \u001b[0;34m*\u001b[0m\u001b[0ma\u001b[0m\u001b[0;34m,\u001b[0m \u001b[0;34m**\u001b[0m\u001b[0mk\u001b[0m\u001b[0;34m:\u001b[0m \u001b[0mf\u001b[0m\u001b[0;34m(\u001b[0m\u001b[0;34m*\u001b[0m\u001b[0ma\u001b[0m\u001b[0;34m,\u001b[0m \u001b[0;34m**\u001b[0m\u001b[0mk\u001b[0m\u001b[0;34m)\u001b[0m\u001b[0;34m\u001b[0m\u001b[0;34m\u001b[0m\u001b[0m\n\u001b[0m\u001b[1;32m    189\u001b[0m \u001b[0;34m\u001b[0m\u001b[0m\n\u001b[1;32m    190\u001b[0m         \u001b[0;32mif\u001b[0m \u001b[0mcallable\u001b[0m\u001b[0;34m(\u001b[0m\u001b[0marg\u001b[0m\u001b[0;34m)\u001b[0m\u001b[0;34m:\u001b[0m\u001b[0;34m\u001b[0m\u001b[0;34m\u001b[0m\u001b[0m\n",
            "\u001b[0;32m/usr/local/lib/python3.6/dist-packages/IPython/extensions/autoreload.py\u001b[0m in \u001b[0;36maimport\u001b[0;34m(self, parameter_s, stream)\u001b[0m\n\u001b[1;32m    505\u001b[0m             \u001b[0mself\u001b[0m\u001b[0;34m.\u001b[0m\u001b[0m_reloader\u001b[0m\u001b[0;34m.\u001b[0m\u001b[0mmark_module_skipped\u001b[0m\u001b[0;34m(\u001b[0m\u001b[0mmodname\u001b[0m\u001b[0;34m)\u001b[0m\u001b[0;34m\u001b[0m\u001b[0;34m\u001b[0m\u001b[0m\n\u001b[1;32m    506\u001b[0m         \u001b[0;32melse\u001b[0m\u001b[0;34m:\u001b[0m\u001b[0;34m\u001b[0m\u001b[0;34m\u001b[0m\u001b[0m\n\u001b[0;32m--> 507\u001b[0;31m             \u001b[0mtop_module\u001b[0m\u001b[0;34m,\u001b[0m \u001b[0mtop_name\u001b[0m \u001b[0;34m=\u001b[0m \u001b[0mself\u001b[0m\u001b[0;34m.\u001b[0m\u001b[0m_reloader\u001b[0m\u001b[0;34m.\u001b[0m\u001b[0maimport_module\u001b[0m\u001b[0;34m(\u001b[0m\u001b[0mmodname\u001b[0m\u001b[0;34m)\u001b[0m\u001b[0;34m\u001b[0m\u001b[0;34m\u001b[0m\u001b[0m\n\u001b[0m\u001b[1;32m    508\u001b[0m \u001b[0;34m\u001b[0m\u001b[0m\n\u001b[1;32m    509\u001b[0m             \u001b[0;31m# Inject module to user namespace\u001b[0m\u001b[0;34m\u001b[0m\u001b[0;34m\u001b[0m\u001b[0;34m\u001b[0m\u001b[0m\n",
            "\u001b[0;32m/usr/local/lib/python3.6/dist-packages/IPython/extensions/autoreload.py\u001b[0m in \u001b[0;36maimport_module\u001b[0;34m(self, module_name)\u001b[0m\n\u001b[1;32m    178\u001b[0m         \u001b[0mself\u001b[0m\u001b[0;34m.\u001b[0m\u001b[0mmark_module_reloadable\u001b[0m\u001b[0;34m(\u001b[0m\u001b[0mmodule_name\u001b[0m\u001b[0;34m)\u001b[0m\u001b[0;34m\u001b[0m\u001b[0;34m\u001b[0m\u001b[0m\n\u001b[1;32m    179\u001b[0m \u001b[0;34m\u001b[0m\u001b[0m\n\u001b[0;32m--> 180\u001b[0;31m         \u001b[0m__import__\u001b[0m\u001b[0;34m(\u001b[0m\u001b[0mmodule_name\u001b[0m\u001b[0;34m)\u001b[0m\u001b[0;34m\u001b[0m\u001b[0;34m\u001b[0m\u001b[0m\n\u001b[0m\u001b[1;32m    181\u001b[0m         \u001b[0mtop_name\u001b[0m \u001b[0;34m=\u001b[0m \u001b[0mmodule_name\u001b[0m\u001b[0;34m.\u001b[0m\u001b[0msplit\u001b[0m\u001b[0;34m(\u001b[0m\u001b[0;34m'.'\u001b[0m\u001b[0;34m)\u001b[0m\u001b[0;34m[\u001b[0m\u001b[0;36m0\u001b[0m\u001b[0;34m]\u001b[0m\u001b[0;34m\u001b[0m\u001b[0;34m\u001b[0m\u001b[0m\n\u001b[1;32m    182\u001b[0m         \u001b[0mtop_module\u001b[0m \u001b[0;34m=\u001b[0m \u001b[0msys\u001b[0m\u001b[0;34m.\u001b[0m\u001b[0mmodules\u001b[0m\u001b[0;34m[\u001b[0m\u001b[0mtop_name\u001b[0m\u001b[0;34m]\u001b[0m\u001b[0;34m\u001b[0m\u001b[0;34m\u001b[0m\u001b[0m\n",
            "\u001b[0;31mModuleNotFoundError\u001b[0m: No module named 'helpers'",
            "",
            "\u001b[0;31m---------------------------------------------------------------------------\u001b[0;32m\nNOTE: If your import is failing due to a missing package, you can\nmanually install dependencies using either !pip or !apt.\n\nTo view examples of installing some common dependencies, click the\n\"Open Examples\" button below.\n\u001b[0;31m---------------------------------------------------------------------------\u001b[0m\n"
          ]
        }
      ]
    },
    {
      "cell_type": "code",
      "metadata": {
        "id": "0M46sAeil2mH",
        "colab_type": "code",
        "colab": {
          "base_uri": "https://localhost:8080/",
          "height": 222
        },
        "outputId": "e08ce393-9f76-4157-c065-5358ec7df1d4"
      },
      "source": [
        "!pip install helpers\n",
        "!pip install pomegranate"
      ],
      "execution_count": 3,
      "outputs": [
        {
          "output_type": "stream",
          "text": [
            "Collecting helpers\n",
            "  Downloading https://files.pythonhosted.org/packages/c9/d8/c85a9dffe8a12a9a4c02aded04c21e2ac1c3c1f6e06913f19ef4fef96687/helpers-0.2.0-py3-none-any.whl\n",
            "Installing collected packages: helpers\n",
            "Successfully installed helpers-0.2.0\n",
            "Requirement already satisfied: pomegranate in /usr/local/lib/python3.6/dist-packages (0.11.0)\n",
            "Requirement already satisfied: scipy>=0.17.0 in /usr/local/lib/python3.6/dist-packages (from pomegranate) (1.3.0)\n",
            "Requirement already satisfied: joblib>=0.9.0b4 in /usr/local/lib/python3.6/dist-packages (from pomegranate) (0.13.2)\n",
            "Requirement already satisfied: pyyaml in /usr/local/lib/python3.6/dist-packages (from pomegranate) (3.13)\n",
            "Requirement already satisfied: networkx>=2.0 in /usr/local/lib/python3.6/dist-packages (from pomegranate) (2.3)\n",
            "Requirement already satisfied: numpy>=1.8.0 in /usr/local/lib/python3.6/dist-packages (from pomegranate) (1.16.4)\n",
            "Requirement already satisfied: decorator>=4.3.0 in /usr/local/lib/python3.6/dist-packages (from networkx>=2.0->pomegranate) (4.4.0)\n"
          ],
          "name": "stdout"
        }
      ]
    },
    {
      "cell_type": "code",
      "metadata": {
        "id": "Iqn1x8B0kUzD",
        "colab_type": "code",
        "colab": {}
      },
      "source": [
        "# import python modules -- this cell needs to be run again if you make changes to any of the files\n",
        "import matplotlib.pyplot as plt\n",
        "import numpy as np\n",
        "\n",
        "#from helpers import show_model\n",
        "from pomegranate import State, HiddenMarkovModel, DiscreteDistribution"
      ],
      "execution_count": 0,
      "outputs": []
    },
    {
      "cell_type": "markdown",
      "metadata": {
        "id": "oyakmIhukUzK",
        "colab_type": "text"
      },
      "source": [
        "## Build a Simple HMM\n",
        "---\n",
        "You will start by building a simple HMM network based on an example from the textbook [Artificial Intelligence: A Modern Approach](http://aima.cs.berkeley.edu/).\n",
        "\n",
        "> You are the security guard stationed at a secret under-ground installation. Each day, you try to guess whether it’s raining today, but your only access to the outside world occurs each morning when you see the director coming in with, or without, an umbrella.\n",
        "\n",
        "A simplified diagram of the required network topology is shown below.\n",
        "\n",
        "![](https://github.com/udacity/hmm-tagger/blob/master/_example.png?raw=1)\n",
        "\n",
        "### Describing the Network\n",
        "\n",
        "<div class=\"alert alert-block alert-warning\">\n",
        "$\\lambda = (A, B)$ specifies a Hidden Markov Model in terms of an emission probability distribution $A$ and a state transition probability distribution $B$.\n",
        "</div>\n",
        "\n",
        "HMM networks are parameterized by two distributions: the emission probabilties giving the conditional probability of observing evidence values for each hidden state, and the transition probabilities giving the conditional probability of moving between states during the sequence. Additionally, you can specify an initial distribution describing the probability of a sequence starting in each state.\n",
        "\n",
        "<div class=\"alert alert-block alert-warning\">\n",
        "At each time $t$, $X_t$ represents the hidden state, and $Y_t$ represents an observation at that time.\n",
        "</div>\n",
        "\n",
        "In this problem, $t$ corresponds to each day of the week and the hidden state represent the weather outside (whether it is Rainy or Sunny) and observations record whether the security guard sees the director carrying an umbrella or not.\n",
        "\n",
        "For example, during some particular week the guard may observe an umbrella ['yes', 'no', 'yes', 'no', 'yes'] on Monday-Friday, while the weather outside is ['Rainy', 'Sunny', 'Sunny', 'Sunny', 'Rainy']. In that case, $t=Wednesday$, $Y_{Wednesday}=yes$, and $X_{Wednesday}=Sunny$. (It might be surprising that the guard would observe an umbrella on a sunny day, but it is possible under this type of model.)\n",
        "\n",
        "### Initializing an HMM Network with Pomegranate\n",
        "The Pomegranate library supports [two initialization methods](http://pomegranate.readthedocs.io/en/latest/HiddenMarkovModel.html#initialization). You can either explicitly provide the three distributions, or you can build the network line-by-line. We'll use the line-by-line method for the example network, but you're free to use either method for the part of speech tagger."
      ]
    },
    {
      "cell_type": "code",
      "metadata": {
        "id": "R2h5urvKkUzM",
        "colab_type": "code",
        "colab": {}
      },
      "source": [
        "# create the HMM model\n",
        "model = HiddenMarkovModel(name=\"Example Model\")"
      ],
      "execution_count": 0,
      "outputs": []
    },
    {
      "cell_type": "markdown",
      "metadata": {
        "id": "OMWJLg9QkUzR",
        "colab_type": "text"
      },
      "source": [
        "### **IMPLEMENTATION**: Add the Hidden States\n",
        "When the HMM model is specified line-by-line, the object starts as an empty container. The first step is to name each state and attach an emission distribution.\n",
        "\n",
        "#### Observation Emission Probabilities: $P(Y_t | X_t)$\n",
        "We need to assume that we have some prior knowledge (possibly from a data set) about the director's behavior to estimate the emission probabilities for each hidden state. In real problems you can often estimate the emission probabilities empirically, which is what we'll do for the part of speech tagger. Our imaginary data will produce the conditional probability table below. (Note that the rows sum to 1.0)\n",
        "\n",
        "| |  $yes$  | $no$ |\n",
        "| --- | --- | --- |\n",
        "| $Sunny$ |   0.10  | 0.90 |\n",
        "| $Rainy$ | 0.80 | 0.20 |"
      ]
    },
    {
      "cell_type": "code",
      "metadata": {
        "id": "NXrbDZLrkUzT",
        "colab_type": "code",
        "outputId": "fa04dc6c-7882-4668-efee-4db272af53da",
        "colab": {
          "base_uri": "https://localhost:8080/",
          "height": 34
        }
      },
      "source": [
        "# create the HMM model\n",
        "model = HiddenMarkovModel(name=\"Example Model\")\n",
        "\n",
        "# emission probability distributions, P(umbrella | weather)\n",
        "sunny_emissions = DiscreteDistribution({\"yes\": 0.1, \"no\": 0.9})\n",
        "sunny_state = State(sunny_emissions, name=\"Sunny\")\n",
        "\n",
        "# TODO: create a discrete distribution for the rainy emissions from the probability table\n",
        "# above & use that distribution to create a state named Rainy\n",
        "rainy_emissions = DiscreteDistribution({\"yes\": 0.8, \"no\": 0.2})\n",
        "rainy_state = State(rainy_emissions, name=\"Rainy\")\n",
        "\n",
        "# add the states to the model\n",
        "model.add_states(sunny_state, rainy_state)\n",
        "\n",
        "assert rainy_emissions.probability(\"yes\") == 0.8, \"The director brings his umbrella with probability 0.8 on rainy days\"\n",
        "print(\"Looks good so far!\")"
      ],
      "execution_count": 7,
      "outputs": [
        {
          "output_type": "stream",
          "text": [
            "Looks good so far!\n"
          ],
          "name": "stdout"
        }
      ]
    },
    {
      "cell_type": "markdown",
      "metadata": {
        "id": "qBv68_RYkUzc",
        "colab_type": "text"
      },
      "source": [
        "### **IMPLEMENTATION:** Adding Transitions\n",
        "Once the states are added to the model, we can build up the desired topology of individual state transitions.\n",
        "\n",
        "#### Initial Probability $P(X_0)$:\n",
        "We will assume that we don't know anything useful about the likelihood of a sequence starting in either state. If the sequences start each week on Monday and end each week on Friday (so each week is a new sequence), then this assumption means that it's equally likely that the weather on a Monday may be Rainy or Sunny. We can assign equal probability to each starting state by setting $P(X_0=Rainy) = 0.5$ and $P(X_0=Sunny)=0.5$:\n",
        "\n",
        "| $Sunny$ | $Rainy$ |\n",
        "| --- | ---\n",
        "| 0.5 | 0.5 |\n",
        "\n",
        "#### State transition probabilities $P(X_{t} | X_{t-1})$\n",
        "Finally, we will assume for this example that we can estimate transition probabilities from something like historical weather data for the area. In real problems you can often use the structure of the problem (like a language grammar) to impose restrictions on the transition probabilities, then re-estimate the parameters with the same training data used to estimate the emission probabilities. Under this assumption, we get the conditional probability table below. (Note that the rows sum to 1.0)\n",
        "\n",
        "| | $Sunny$ | $Rainy$ |\n",
        "| --- | --- | --- |\n",
        "|$Sunny$| 0.80 | 0.20 |\n",
        "|$Rainy$| 0.40 | 0.60 |"
      ]
    },
    {
      "cell_type": "code",
      "metadata": {
        "id": "LN4vwZ21kUze",
        "colab_type": "code",
        "outputId": "34f6f5b2-26b1-4850-bdfa-898424f52efe",
        "colab": {
          "base_uri": "https://localhost:8080/",
          "height": 34
        }
      },
      "source": [
        "# create edges for each possible state transition in the model\n",
        "# equal probability of a sequence starting on either a rainy or sunny day\n",
        "model.add_transition(model.start, sunny_state, 0.5)\n",
        "model.add_transition(model.start, rainy_state, 0.5)\n",
        "\n",
        "# add sunny day transitions (we already know estimates of these probabilities\n",
        "# from the problem statement)\n",
        "model.add_transition(sunny_state, sunny_state, 0.8)  # 80% sunny->sunny\n",
        "model.add_transition(sunny_state, rainy_state, 0.2)  # 20% sunny->rainy\n",
        "\n",
        "# TODO: add rainy day transitions using the probabilities specified in the transition table\n",
        "model.add_transition(rainy_state, sunny_state, 0.4)  # 40% rainy->sunny\n",
        "model.add_transition(rainy_state, rainy_state, 0.6)  # 60% rainy->rainy\n",
        "\n",
        "# finally, call the .bake() method to finalize the model\n",
        "model.bake()\n",
        "\n",
        "assert model.edge_count() == 6, \"There should be two edges from model.start, two from Rainy, and two from Sunny\"\n",
        "assert model.node_count() == 4, \"The states should include model.start, model.end, Rainy, and Sunny\"\n",
        "print(\"Great! You've finished the model.\")"
      ],
      "execution_count": 8,
      "outputs": [
        {
          "output_type": "stream",
          "text": [
            "Great! You've finished the model.\n"
          ],
          "name": "stdout"
        }
      ]
    },
    {
      "cell_type": "code",
      "metadata": {
        "id": "Oc1APcdLwCZX",
        "colab_type": "code",
        "colab": {}
      },
      "source": [
        "import os\n",
        "import matplotlib.pyplot as plt\n",
        "import matplotlib.image as mplimg\n",
        "import networkx as nx\n",
        "import random\n",
        "\n",
        "from io import BytesIO\n",
        "from itertools import chain\n",
        "from collections import namedtuple, OrderedDict\n",
        "\n",
        "\n",
        "Sentence = namedtuple(\"Sentence\", \"words tags\")\n",
        "\n",
        "def read_data(filename):\n",
        "    \"\"\"Read tagged sentence data\"\"\"\n",
        "    with open(filename, 'r') as f:\n",
        "        sentence_lines = [l.split(\"\\n\") for l in f.read().split(\"\\n\\n\")]\n",
        "    return OrderedDict(((s[0], Sentence(*zip(*[l.strip().split(\"\\t\")\n",
        "                        for l in s[1:]]))) for s in sentence_lines if s[0]))\n",
        "\n",
        "\n",
        "def read_tags(filename):\n",
        "    \"\"\"Read a list of word tag classes\"\"\"\n",
        "    with open(filename, 'r') as f:\n",
        "        tags = f.read().split(\"\\n\")\n",
        "    return frozenset(tags)\n",
        "\n",
        "\n",
        "def model2png(model, filename=\"\", overwrite=False, show_ends=False):\n",
        "    \"\"\"Convert a Pomegranate model into a PNG image\n",
        "    The conversion pipeline extracts the underlying NetworkX graph object,\n",
        "    converts it to a PyDot graph, then writes the PNG data to a bytes array,\n",
        "    which can be saved as a file to disk or imported with matplotlib for display.\n",
        "        Model -> NetworkX.Graph -> PyDot.Graph -> bytes -> PNG\n",
        "    Parameters\n",
        "    ----------\n",
        "    model : Pomegranate.Model\n",
        "        The model object to convert. The model must have an attribute .graph\n",
        "        referencing a NetworkX.Graph instance.\n",
        "    filename : string (optional)\n",
        "        The PNG file will be saved to disk with this filename if one is provided.\n",
        "        By default, the image file will NOT be created if a file with this name\n",
        "        already exists unless overwrite=True.\n",
        "    overwrite : bool (optional)\n",
        "        overwrite=True allows the new PNG to overwrite the specified file if it\n",
        "        already exists\n",
        "    show_ends : bool (optional)\n",
        "        show_ends=True will generate the PNG including the two end states from\n",
        "        the Pomegranate model (which are not usually an explicit part of the graph)\n",
        "    \"\"\"\n",
        "    nodes = model.graph.nodes()\n",
        "    if not show_ends:\n",
        "        nodes = [n for n in nodes if n not in (model.start, model.end)]\n",
        "    g = nx.relabel_nodes(model.graph.subgraph(nodes), {n: n.name for n in model.graph.nodes()})\n",
        "    pydot_graph = nx.drawing.nx_pydot.to_pydot(g)\n",
        "    pydot_graph.set_rankdir(\"LR\")\n",
        "    png_data = pydot_graph.create_png(prog='dot')\n",
        "    img_data = BytesIO()\n",
        "    img_data.write(png_data)\n",
        "    img_data.seek(0)\n",
        "    if filename:\n",
        "        if os.path.exists(filename) and not overwrite:\n",
        "            raise IOError(\"File already exists. Use overwrite=True to replace existing files on disk.\")\n",
        "        with open(filename, 'wb') as f:\n",
        "            f.write(img_data.read())\n",
        "        img_data.seek(0)\n",
        "    return mplimg.imread(img_data)\n",
        "\n",
        "\n",
        "def show_model(model, figsize=(5, 5), **kwargs):\n",
        "    \"\"\"Display a Pomegranate model as an image using matplotlib\n",
        "    Parameters\n",
        "    ----------\n",
        "    model : Pomegranate.Model\n",
        "        The model object to convert. The model must have an attribute .graph\n",
        "        referencing a NetworkX.Graph instance.\n",
        "    figsize : tuple(int, int) (optional)\n",
        "        A tuple specifying the dimensions of a matplotlib Figure that will\n",
        "        display the converted graph\n",
        "    **kwargs : dict\n",
        "        The kwargs dict is passed to the model2png program, see that function\n",
        "        for details\n",
        "    \"\"\"\n",
        "    plt.figure(figsize=figsize)\n",
        "    plt.imshow(model2png(model, **kwargs))\n",
        "    plt.axis('off')\n",
        "\n",
        "\n",
        "class Subset(namedtuple(\"BaseSet\", \"sentences keys vocab X tagset Y N stream\")):\n",
        "    def __new__(cls, sentences, keys):\n",
        "        word_sequences = tuple([sentences[k].words for k in keys])\n",
        "        tag_sequences = tuple([sentences[k].tags for k in keys])\n",
        "        wordset = frozenset(chain(*word_sequences))\n",
        "        tagset = frozenset(chain(*tag_sequences))\n",
        "        N = sum(1 for _ in chain(*(sentences[k].words for k in keys)))\n",
        "        stream = tuple(zip(chain(*word_sequences), chain(*tag_sequences)))\n",
        "        return super().__new__(cls, {k: sentences[k] for k in keys}, keys, wordset, word_sequences,\n",
        "                               tagset, tag_sequences, N, stream.__iter__)\n",
        "\n",
        "    def __len__(self):\n",
        "        return len(self.sentences)\n",
        "\n",
        "    def __iter__(self):\n",
        "        return iter(self.sentences.items())\n",
        "\n",
        "\n",
        "class Dataset(namedtuple(\"_Dataset\", \"sentences keys vocab X tagset Y training_set testing_set N stream\")):\n",
        "    def __new__(cls, tagfile, datafile, train_test_split=0.8, seed=112890):\n",
        "        tagset = read_tags(tagfile)\n",
        "        sentences = read_data(datafile)\n",
        "        keys = tuple(sentences.keys())\n",
        "        wordset = frozenset(chain(*[s.words for s in sentences.values()]))\n",
        "        word_sequences = tuple([sentences[k].words for k in keys])\n",
        "        tag_sequences = tuple([sentences[k].tags for k in keys])\n",
        "        N = sum(1 for _ in chain(*(s.words for s in sentences.values())))\n",
        "        \n",
        "        # split data into train/test sets\n",
        "        _keys = list(keys)\n",
        "        if seed is not None: random.seed(seed)\n",
        "        random.shuffle(_keys)\n",
        "        split = int(train_test_split * len(_keys))\n",
        "        training_data = Subset(sentences, _keys[:split])\n",
        "        testing_data = Subset(sentences, _keys[split:])\n",
        "        stream = tuple(zip(chain(*word_sequences), chain(*tag_sequences)))\n",
        "        return super().__new__(cls, dict(sentences), keys, wordset, word_sequences, tagset,\n",
        "                               tag_sequences, training_data, testing_data, N, stream.__iter__)\n",
        "\n",
        "    def __len__(self):\n",
        "        return len(self.sentences)\n",
        "\n",
        "    def __iter__(self):\n",
        "        return iter(self.sentences.items())"
      ],
      "execution_count": 0,
      "outputs": []
    },
    {
      "cell_type": "markdown",
      "metadata": {
        "id": "Ona_HSB5kUzm",
        "colab_type": "text"
      },
      "source": [
        "## Visualize the Network\n",
        "---\n",
        "We have provided a helper function called `show_model()` that generates a PNG image from a Pomegranate HMM network. You can specify an optional filename to save the file to disk. Setting the \"show_ends\" argument True will add the model start & end states that are included in every Pomegranate network."
      ]
    },
    {
      "cell_type": "code",
      "metadata": {
        "id": "5vQZs22skUzo",
        "colab_type": "code",
        "outputId": "03d09938-8f97-499d-9f4f-54a26bd92efe",
        "colab": {
          "base_uri": "https://localhost:8080/",
          "height": 147
        }
      },
      "source": [
        "show_model(model, figsize=(5, 5), filename=\"example.png\", overwrite=True, show_ends=False)"
      ],
      "execution_count": 10,
      "outputs": [
        {
          "output_type": "display_data",
          "data": {
            "image/png": "[encoded data removed]",
            "text/plain": [
              "<Figure size 360x360 with 1 Axes>"
            ]
          },
          "metadata": {
            "tags": []
          }
        }
      ]
    },
    {
      "cell_type": "markdown",
      "metadata": {
        "id": "y1oHKf0dkUzw",
        "colab_type": "text"
      },
      "source": [
        "### Checking the Model\n",
        "The states of the model can be accessed using array syntax on the `HMM.states` attribute, and the transition matrix can be accessed by calling `HMM.dense_transition_matrix()`. Element $(i, j)$ encodes the probability of transitioning from state $i$ to state $j$. For example, with the default column order specified, element $(2, 1)$ gives the probability of transitioning from \"Rainy\" to \"Sunny\", which we specified as 0.4.\n",
        "\n",
        "Run the next cell to inspect the full state transition matrix, then read the . "
      ]
    },
    {
      "cell_type": "code",
      "metadata": {
        "id": "umJtQWT0kUzy",
        "colab_type": "code",
        "outputId": "66ebbbf1-d088-45e4-c7ca-77504972e287",
        "colab": {
          "base_uri": "https://localhost:8080/",
          "height": 151
        }
      },
      "source": [
        "column_order = [\"Example Model-start\", \"Sunny\", \"Rainy\", \"Example Model-end\"]  # Override the Pomegranate default order\n",
        "column_names = [s.name for s in model.states]\n",
        "order_index = [column_names.index(c) for c in column_order]\n",
        "\n",
        "# re-order the rows/columns to match the specified column order\n",
        "transitions = model.dense_transition_matrix()[:, order_index][order_index, :]\n",
        "print(\"The state transition matrix, P(Xt|Xt-1):\\n\")\n",
        "print(transitions)\n",
        "print(\"\\nThe transition probability from Rainy to Sunny is {:.0f}%\".format(100 * transitions[2, 1]))"
      ],
      "execution_count": 11,
      "outputs": [
        {
          "output_type": "stream",
          "text": [
            "The state transition matrix, P(Xt|Xt-1):\n",
            "\n",
            "[[0.  0.5 0.5 0. ]\n",
            " [0.  0.8 0.2 0. ]\n",
            " [0.  0.4 0.6 0. ]\n",
            " [0.  0.  0.  0. ]]\n",
            "\n",
            "The transition probability from Rainy to Sunny is 40%\n"
          ],
          "name": "stdout"
        }
      ]
    },
    {
      "cell_type": "markdown",
      "metadata": {
        "id": "QhWkRxNckUz6",
        "colab_type": "text"
      },
      "source": [
        "## Inference in Hidden Markov Models\n",
        "---\n",
        "Before moving on, we'll use this simple network to quickly go over the Pomegranate API to perform the three most common HMM tasks:\n",
        "\n",
        "<div class=\"alert alert-block alert-info\">\n",
        "**Likelihood Evaluation**<br>\n",
        "Given a model $\\lambda=(A,B)$ and a set of observations $Y$, determine $P(Y|\\lambda)$, the likelihood of observing that sequence from the model\n",
        "</div>\n",
        "\n",
        "We can use the weather prediction model to evaluate the likelihood of the sequence [yes, yes, yes, yes, yes] (or any other state sequence). The likelihood is often used in problems like machine translation to weight interpretations in conjunction with a statistical language model.\n",
        "\n",
        "<div class=\"alert alert-block alert-info\">\n",
        "**Hidden State Decoding**<br>\n",
        "Given a model $\\lambda=(A,B)$ and a set of observations $Y$, determine $Q$, the most likely sequence of hidden states in the model to produce the observations\n",
        "</div>\n",
        "\n",
        "We can use the weather prediction model to determine the most likely sequence of Rainy/Sunny states for a known observation sequence, like [yes, no] -> [Rainy, Sunny]. We will use decoding in the part of speech tagger to determine the tag for each word of a sentence. The decoding can be further split into \"smoothing\" when we want to calculate past states, \"filtering\" when we want to calculate the current state, or \"prediction\" if we want to calculate future states. \n",
        "\n",
        "<div class=\"alert alert-block alert-info\">\n",
        "**Parameter Learning**<br>\n",
        "Given a model topography (set of states and connections) and a set of observations $Y$, learn the transition probabilities $A$ and emission probabilities $B$ of the model, $\\lambda=(A,B)$\n",
        "</div>\n",
        "\n",
        "We don't need to learn the model parameters for the weather problem or POS tagging, but it is supported by Pomegranate.\n",
        "\n",
        "### IMPLEMENTATION: Calculate Sequence Likelihood\n",
        "\n",
        "Calculating the likelihood of an observation sequence from an HMM network is performed with the [forward algorithm](https://en.wikipedia.org/wiki/Forward_algorithm). Pomegranate provides the the `HMM.forward()` method to calculate the full matrix showing the likelihood of aligning each observation to each state in the HMM, and the `HMM.log_probability()` method to calculate the cumulative likelihood over all possible hidden state paths that the specified model generated the observation sequence.\n",
        "\n",
        "Fill in the code in the next section with a sample observation sequence and then use the `forward()` and `log_probability()` methods to evaluate the sequence."
      ]
    },
    {
      "cell_type": "code",
      "metadata": {
        "id": "jn9o3rufkUz8",
        "colab_type": "code",
        "outputId": "470854f2-c764-474e-acc2-c330e0ea16a2",
        "colab": {
          "base_uri": "https://localhost:8080/",
          "height": 168
        }
      },
      "source": [
        "# TODO: input a sequence of 'yes'/'no' values in the list below for testing\n",
        "observations = ['yes', 'no', 'yes']\n",
        "\n",
        "assert len(observations) > 0, \"You need to choose a sequence of 'yes'/'no' observations to test\"\n",
        "\n",
        "# TODO: use model.forward() to calculate the forward matrix of the observed sequence,\n",
        "# and then use np.exp() to convert from log-likelihood to likelihood\n",
        "forward_matrix = np.exp(model.forward(observations))\n",
        "\n",
        "# TODO: use model.log_probability() to calculate the all-paths likelihood of the\n",
        "# observed sequence and then use np.exp() to convert log-likelihood to likelihood\n",
        "probability_percentage = np.exp(model.log_probability(observations))\n",
        "\n",
        "# Display the forward probabilities\n",
        "print(\"         \" + \"\".join(s.name.center(len(s.name)+6) for s in model.states))\n",
        "for i in range(len(observations) + 1):\n",
        "    print(\" <start> \" if i==0 else observations[i - 1].center(9), end=\"\")\n",
        "    print(\"\".join(\"{:.0f}%\".format(100 * forward_matrix[i, j]).center(len(s.name) + 6)\n",
        "                  for j, s in enumerate(model.states)))\n",
        "\n",
        "print(\"\\nThe likelihood over all possible paths \" + \\\n",
        "      \"of this model producing the sequence {} is {:.2f}%\\n\\n\"\n",
        "      .format(observations, 100 * probability_percentage))"
      ],
      "execution_count": 12,
      "outputs": [
        {
          "output_type": "stream",
          "text": [
            "            Rainy      Sunny      Example Model-start      Example Model-end   \n",
            " <start>      0%         0%               100%                     0%          \n",
            "   yes       40%         5%                0%                      0%          \n",
            "    no        5%        18%                0%                      0%          \n",
            "   yes        5%         2%                0%                      0%          \n",
            "\n",
            "The likelihood over all possible paths of this model producing the sequence ['yes', 'no', 'yes'] is 6.92%\n",
            "\n",
            "\n"
          ],
          "name": "stdout"
        }
      ]
    },
    {
      "cell_type": "markdown",
      "metadata": {
        "id": "PJxbRnNdkU0D",
        "colab_type": "text"
      },
      "source": [
        "### IMPLEMENTATION: Decoding the Most Likely Hidden State Sequence\n",
        "\n",
        "The [Viterbi algorithm](https://en.wikipedia.org/wiki/Viterbi_algorithm) calculates the single path with the highest likelihood to produce a specific observation sequence. Pomegranate provides the `HMM.viterbi()` method to calculate both the hidden state sequence and the corresponding likelihood of the viterbi path.\n",
        "\n",
        "This is called \"decoding\" because we use the observation sequence to decode the corresponding hidden state sequence. In the part of speech tagging problem, the hidden states map to parts of speech and the observations map to sentences. Given a sentence, Viterbi decoding finds the most likely sequence of part of speech tags corresponding to the sentence.\n",
        "\n",
        "Fill in the code in the next section with the same sample observation sequence you used above, and then use the `model.viterbi()` method to calculate the likelihood and most likely state sequence. Compare the Viterbi likelihood against the forward algorithm likelihood for the observation sequence."
      ]
    },
    {
      "cell_type": "code",
      "metadata": {
        "id": "njmVeHJ-kU0F",
        "colab_type": "code",
        "outputId": "da156bb8-ea93-4829-909c-921590a8316f",
        "colab": {
          "base_uri": "https://localhost:8080/",
          "height": 34
        }
      },
      "source": [
        "# TODO: input a sequence of 'yes'/'no' values in the list below for testing\n",
        "observations = ['yes', 'no', 'yes']\n",
        "\n",
        "# TODO: use model.viterbi to find the sequence likelihood & the most likely path\n",
        "viterbi_likelihood, viterbi_path = model.viterbi(observations)\n",
        "\n",
        "print(\"The most likely weather sequence to have generated \" + \\\n",
        "      \"these observations is {} at {:.2f}%.\"\n",
        "      .format([s[1].name for s in viterbi_path[1:]], np.exp(viterbi_likelihood)*100)\n",
        ")"
      ],
      "execution_count": 13,
      "outputs": [
        {
          "output_type": "stream",
          "text": [
            "The most likely weather sequence to have generated these observations is ['Rainy', 'Sunny', 'Rainy'] at 2.30%.\n"
          ],
          "name": "stdout"
        }
      ]
    },
    {
      "cell_type": "markdown",
      "metadata": {
        "id": "26wqEe_ikU0N",
        "colab_type": "text"
      },
      "source": [
        "### Forward likelihood vs Viterbi likelihood\n",
        "Run the cells below to see the likelihood of each sequence of observations with length 3, and compare with the viterbi path."
      ]
    },
    {
      "cell_type": "code",
      "metadata": {
        "id": "0Q4g8DewkU0O",
        "colab_type": "code",
        "outputId": "d1bc88a6-3635-4331-d84b-416411540d80",
        "colab": {
          "base_uri": "https://localhost:8080/",
          "height": 202
        }
      },
      "source": [
        "from itertools import product\n",
        "\n",
        "observations = ['no', 'no', 'yes']\n",
        "\n",
        "p = {'Sunny': {'Sunny': np.log(.8), 'Rainy': np.log(.2)}, 'Rainy': {'Sunny': np.log(.4), 'Rainy': np.log(.6)}}\n",
        "e = {'Sunny': {'yes': np.log(.1), 'no': np.log(.9)}, 'Rainy':{'yes':np.log(.8), 'no':np.log(.2)}}\n",
        "o = observations\n",
        "k = []\n",
        "vprob = np.exp(model.viterbi(o)[0])\n",
        "print(\"The likelihood of observing {} if the weather sequence is...\".format(o))\n",
        "for s in product(*[['Sunny', 'Rainy']]*3):\n",
        "    k.append(np.exp(np.log(.5)+e[s[0]][o[0]] + p[s[0]][s[1]] + e[s[1]][o[1]] + p[s[1]][s[2]] + e[s[2]][o[2]]))\n",
        "    print(\"\\t{} is {:.2f}% {}\".format(s, 100 * k[-1], \" <-- Viterbi path\" if k[-1] == vprob else \"\"))\n",
        "print(\"\\nThe total likelihood of observing {} over all possible paths is {:.2f}%\".format(o, 100*sum(k)))"
      ],
      "execution_count": 14,
      "outputs": [
        {
          "output_type": "stream",
          "text": [
            "The likelihood of observing ['no', 'no', 'yes'] if the weather sequence is...\n",
            "\t('Sunny', 'Sunny', 'Sunny') is 2.59% \n",
            "\t('Sunny', 'Sunny', 'Rainy') is 5.18%  <-- Viterbi path\n",
            "\t('Sunny', 'Rainy', 'Sunny') is 0.07% \n",
            "\t('Sunny', 'Rainy', 'Rainy') is 0.86% \n",
            "\t('Rainy', 'Sunny', 'Sunny') is 0.29% \n",
            "\t('Rainy', 'Sunny', 'Rainy') is 0.58% \n",
            "\t('Rainy', 'Rainy', 'Sunny') is 0.05% \n",
            "\t('Rainy', 'Rainy', 'Rainy') is 0.58% \n",
            "\n",
            "The total likelihood of observing ['no', 'no', 'yes'] over all possible paths is 10.20%\n"
          ],
          "name": "stdout"
        }
      ]
    },
    {
      "cell_type": "markdown",
      "metadata": {
        "id": "2cTjljV8kU0X",
        "colab_type": "text"
      },
      "source": [
        "### Congratulations!\n",
        "You've now finished the HMM warmup. You should have all the tools you need to complete the part of speech tagger project."
      ]
    }
  ]
}